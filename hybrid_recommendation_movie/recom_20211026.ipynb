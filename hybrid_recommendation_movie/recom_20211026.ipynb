{
 "cells": [
  {
   "cell_type": "code",
   "execution_count": 1,
   "id": "bc528c84",
   "metadata": {},
   "outputs": [],
   "source": [
    "import pandas as pd\n",
    "import numpy as np"
   ]
  },
  {
   "cell_type": "code",
   "execution_count": 2,
   "id": "beae135a",
   "metadata": {},
   "outputs": [],
   "source": [
    "ratings = pd.read_csv('data2/rating.csv', \n",
    "                      parse_dates=['timestamp'])"
   ]
  },
  {
   "cell_type": "markdown",
   "id": "1b0b51b3",
   "metadata": {},
   "source": [
    "### Data inspecting for ratings"
   ]
  },
  {
   "cell_type": "code",
   "execution_count": 3,
   "id": "a24f2141",
   "metadata": {},
   "outputs": [
    {
     "data": {
      "text/html": [
       "<div>\n",
       "<style scoped>\n",
       "    .dataframe tbody tr th:only-of-type {\n",
       "        vertical-align: middle;\n",
       "    }\n",
       "\n",
       "    .dataframe tbody tr th {\n",
       "        vertical-align: top;\n",
       "    }\n",
       "\n",
       "    .dataframe thead th {\n",
       "        text-align: right;\n",
       "    }\n",
       "</style>\n",
       "<table border=\"1\" class=\"dataframe\">\n",
       "  <thead>\n",
       "    <tr style=\"text-align: right;\">\n",
       "      <th></th>\n",
       "      <th>userId</th>\n",
       "      <th>movieId</th>\n",
       "      <th>rating</th>\n",
       "      <th>timestamp</th>\n",
       "    </tr>\n",
       "  </thead>\n",
       "  <tbody>\n",
       "    <tr>\n",
       "      <th>7059712</th>\n",
       "      <td>48664</td>\n",
       "      <td>185</td>\n",
       "      <td>4.0</td>\n",
       "      <td>2004-04-19 12:52:37</td>\n",
       "    </tr>\n",
       "    <tr>\n",
       "      <th>16833478</th>\n",
       "      <td>116415</td>\n",
       "      <td>344</td>\n",
       "      <td>2.0</td>\n",
       "      <td>1996-07-06 15:52:12</td>\n",
       "    </tr>\n",
       "    <tr>\n",
       "      <th>17753586</th>\n",
       "      <td>122733</td>\n",
       "      <td>3</td>\n",
       "      <td>3.0</td>\n",
       "      <td>1999-06-09 15:48:08</td>\n",
       "    </tr>\n",
       "    <tr>\n",
       "      <th>17303720</th>\n",
       "      <td>119659</td>\n",
       "      <td>4306</td>\n",
       "      <td>3.5</td>\n",
       "      <td>2005-03-24 11:28:55</td>\n",
       "    </tr>\n",
       "    <tr>\n",
       "      <th>2794702</th>\n",
       "      <td>18913</td>\n",
       "      <td>7387</td>\n",
       "      <td>4.5</td>\n",
       "      <td>2009-06-13 02:25:26</td>\n",
       "    </tr>\n",
       "  </tbody>\n",
       "</table>\n",
       "</div>"
      ],
      "text/plain": [
       "          userId  movieId  rating           timestamp\n",
       "7059712    48664      185     4.0 2004-04-19 12:52:37\n",
       "16833478  116415      344     2.0 1996-07-06 15:52:12\n",
       "17753586  122733        3     3.0 1999-06-09 15:48:08\n",
       "17303720  119659     4306     3.5 2005-03-24 11:28:55\n",
       "2794702    18913     7387     4.5 2009-06-13 02:25:26"
      ]
     },
     "execution_count": 3,
     "metadata": {},
     "output_type": "execute_result"
    }
   ],
   "source": [
    "ratings.sample(5)"
   ]
  },
  {
   "cell_type": "code",
   "execution_count": 4,
   "id": "40867cab",
   "metadata": {},
   "outputs": [
    {
     "data": {
      "text/plain": [
       "userId                int64\n",
       "movieId               int64\n",
       "rating              float64\n",
       "timestamp    datetime64[ns]\n",
       "dtype: object"
      ]
     },
     "execution_count": 4,
     "metadata": {},
     "output_type": "execute_result"
    }
   ],
   "source": [
    "ratings.dtypes"
   ]
  },
  {
   "cell_type": "code",
   "execution_count": 5,
   "id": "9e02f404",
   "metadata": {},
   "outputs": [
    {
     "data": {
      "text/plain": [
       "userId       0\n",
       "movieId      0\n",
       "rating       0\n",
       "timestamp    0\n",
       "dtype: int64"
      ]
     },
     "execution_count": 5,
     "metadata": {},
     "output_type": "execute_result"
    }
   ],
   "source": [
    "ratings.isnull().sum()   #very good data. no nona value"
   ]
  },
  {
   "cell_type": "code",
   "execution_count": 6,
   "id": "9f7bb352",
   "metadata": {},
   "outputs": [
    {
     "data": {
      "text/html": [
       "<div>\n",
       "<style scoped>\n",
       "    .dataframe tbody tr th:only-of-type {\n",
       "        vertical-align: middle;\n",
       "    }\n",
       "\n",
       "    .dataframe tbody tr th {\n",
       "        vertical-align: top;\n",
       "    }\n",
       "\n",
       "    .dataframe thead th {\n",
       "        text-align: right;\n",
       "    }\n",
       "</style>\n",
       "<table border=\"1\" class=\"dataframe\">\n",
       "  <thead>\n",
       "    <tr style=\"text-align: right;\">\n",
       "      <th></th>\n",
       "      <th>count</th>\n",
       "      <th>mean</th>\n",
       "      <th>std</th>\n",
       "      <th>min</th>\n",
       "      <th>25%</th>\n",
       "      <th>50%</th>\n",
       "      <th>75%</th>\n",
       "      <th>max</th>\n",
       "    </tr>\n",
       "  </thead>\n",
       "  <tbody>\n",
       "    <tr>\n",
       "      <th>userId</th>\n",
       "      <td>20000263.0</td>\n",
       "      <td>69045.872583</td>\n",
       "      <td>40038.626653</td>\n",
       "      <td>1.0</td>\n",
       "      <td>34395.0</td>\n",
       "      <td>69141.0</td>\n",
       "      <td>103637.0</td>\n",
       "      <td>138493.0</td>\n",
       "    </tr>\n",
       "    <tr>\n",
       "      <th>movieId</th>\n",
       "      <td>20000263.0</td>\n",
       "      <td>9041.567330</td>\n",
       "      <td>19789.477445</td>\n",
       "      <td>1.0</td>\n",
       "      <td>902.0</td>\n",
       "      <td>2167.0</td>\n",
       "      <td>4770.0</td>\n",
       "      <td>131262.0</td>\n",
       "    </tr>\n",
       "    <tr>\n",
       "      <th>rating</th>\n",
       "      <td>20000263.0</td>\n",
       "      <td>3.525529</td>\n",
       "      <td>1.051989</td>\n",
       "      <td>0.5</td>\n",
       "      <td>3.0</td>\n",
       "      <td>3.5</td>\n",
       "      <td>4.0</td>\n",
       "      <td>5.0</td>\n",
       "    </tr>\n",
       "  </tbody>\n",
       "</table>\n",
       "</div>"
      ],
      "text/plain": [
       "              count          mean           std  min      25%      50%  \\\n",
       "userId   20000263.0  69045.872583  40038.626653  1.0  34395.0  69141.0   \n",
       "movieId  20000263.0   9041.567330  19789.477445  1.0    902.0   2167.0   \n",
       "rating   20000263.0      3.525529      1.051989  0.5      3.0      3.5   \n",
       "\n",
       "              75%       max  \n",
       "userId   103637.0  138493.0  \n",
       "movieId    4770.0  131262.0  \n",
       "rating        4.0       5.0  "
      ]
     },
     "execution_count": 6,
     "metadata": {},
     "output_type": "execute_result"
    }
   ],
   "source": [
    "ratings.describe().T"
   ]
  },
  {
   "cell_type": "code",
   "execution_count": 7,
   "id": "97cf9c8d",
   "metadata": {},
   "outputs": [
    {
     "data": {
      "text/plain": [
       "(20000263, 4)"
      ]
     },
     "execution_count": 7,
     "metadata": {},
     "output_type": "execute_result"
    }
   ],
   "source": [
    "ratings.shape"
   ]
  },
  {
   "cell_type": "code",
   "execution_count": 9,
   "id": "cd24a9ab",
   "metadata": {},
   "outputs": [
    {
     "data": {
      "text/plain": [
       "138493"
      ]
     },
     "execution_count": 9,
     "metadata": {},
     "output_type": "execute_result"
    }
   ],
   "source": [
    "ratings['userId'].nunique()   #138k users"
   ]
  },
  {
   "cell_type": "code",
   "execution_count": 10,
   "id": "71053331",
   "metadata": {},
   "outputs": [
    {
     "data": {
      "text/plain": [
       "26744"
      ]
     },
     "execution_count": 10,
     "metadata": {},
     "output_type": "execute_result"
    }
   ],
   "source": [
    "ratings['movieId'].nunique()  #27k movies"
   ]
  },
  {
   "cell_type": "code",
   "execution_count": 11,
   "id": "bbaa13c6",
   "metadata": {},
   "outputs": [
    {
     "data": {
      "text/plain": [
       "min   1995-01-09 11:46:44\n",
       "max   2015-03-31 06:40:02\n",
       "Name: timestamp, dtype: datetime64[ns]"
      ]
     },
     "execution_count": 11,
     "metadata": {},
     "output_type": "execute_result"
    }
   ],
   "source": [
    "ratings['timestamp'].agg([min,max])   #1995-31/3/2015"
   ]
  },
  {
   "cell_type": "code",
   "execution_count": 12,
   "id": "d2c93d5f",
   "metadata": {},
   "outputs": [],
   "source": [
    "user_ave=ratings.groupby('userId')['rating'].mean()"
   ]
  },
  {
   "cell_type": "code",
   "execution_count": 13,
   "id": "1e841f83",
   "metadata": {},
   "outputs": [
    {
     "data": {
      "text/plain": [
       "userId\n",
       "1         3.742857\n",
       "2         4.000000\n",
       "3         4.122995\n",
       "4         3.571429\n",
       "5         4.272727\n",
       "            ...   \n",
       "138489    3.986842\n",
       "138490    3.556291\n",
       "138491    2.681818\n",
       "138492    4.097561\n",
       "138493    4.172922\n",
       "Name: rating, Length: 138493, dtype: float64"
      ]
     },
     "execution_count": 13,
     "metadata": {},
     "output_type": "execute_result"
    }
   ],
   "source": [
    "user_ave"
   ]
  },
  {
   "cell_type": "code",
   "execution_count": 14,
   "id": "73946e13",
   "metadata": {},
   "outputs": [],
   "source": [
    "user_active=ratings.groupby('userId')['rating'].count()\n",
    "user_active=user_active.sort_values(ascending=False)[:20000]"
   ]
  },
  {
   "cell_type": "code",
   "execution_count": 15,
   "id": "e228524e",
   "metadata": {},
   "outputs": [
    {
     "data": {
      "text/plain": [
       "userId\n",
       "118205    9254\n",
       "8405      7515\n",
       "82418     5646\n",
       "121535    5520\n",
       "125794    5491\n",
       "          ... \n",
       "58972      254\n",
       "113791     254\n",
       "43755      254\n",
       "10465      254\n",
       "66473      254\n",
       "Name: rating, Length: 20000, dtype: int64"
      ]
     },
     "execution_count": 15,
     "metadata": {},
     "output_type": "execute_result"
    }
   ],
   "source": [
    "user_active"
   ]
  },
  {
   "cell_type": "code",
   "execution_count": 16,
   "id": "ea5c22bc",
   "metadata": {},
   "outputs": [],
   "source": [
    "movie_ave=ratings.groupby('movieId')['rating'].mean()"
   ]
  },
  {
   "cell_type": "code",
   "execution_count": 17,
   "id": "e33a2596",
   "metadata": {},
   "outputs": [
    {
     "data": {
      "text/plain": [
       "26744"
      ]
     },
     "execution_count": 17,
     "metadata": {},
     "output_type": "execute_result"
    }
   ],
   "source": [
    "len(movie_ave)"
   ]
  },
  {
   "cell_type": "code",
   "execution_count": 18,
   "id": "d49eb00a",
   "metadata": {},
   "outputs": [
    {
     "data": {
      "text/plain": [
       "(array([2.2000e+01, 8.0000e+00, 3.6000e+01, 4.9000e+01, 8.3000e+01,\n",
       "        1.5600e+02, 2.6000e+02, 5.1200e+02, 1.1220e+03, 2.2650e+03,\n",
       "        5.0860e+03, 1.0829e+04, 2.0112e+04, 2.8053e+04, 2.9639e+04,\n",
       "        2.2339e+04, 1.2244e+04, 4.3650e+03, 1.0780e+03, 2.3500e+02]),\n",
       " array([0.5  , 0.725, 0.95 , 1.175, 1.4  , 1.625, 1.85 , 2.075, 2.3  ,\n",
       "        2.525, 2.75 , 2.975, 3.2  , 3.425, 3.65 , 3.875, 4.1  , 4.325,\n",
       "        4.55 , 4.775, 5.   ]),\n",
       " <BarContainer object of 20 artists>)"
      ]
     },
     "execution_count": 18,
     "metadata": {},
     "output_type": "execute_result"
    },
    {
     "data": {
      "image/png": "[encoded data removed]",
      "text/plain": [
       "<Figure size 432x288 with 1 Axes>"
      ]
     },
     "metadata": {
      "needs_background": "light"
     },
     "output_type": "display_data"
    }
   ],
   "source": [
    "import matplotlib.pyplot as plt\n",
    "\n",
    "plt.hist(user_ave,bins=20)"
   ]
  },
  {
   "cell_type": "code",
   "execution_count": 19,
   "id": "551897d1",
   "metadata": {},
   "outputs": [
    {
     "data": {
      "text/plain": [
       "(array([ 183.,   16.,  236.,   73.,  330.,  318.,  821.,  697., 1851.,\n",
       "        1414., 2533., 4387., 3980., 4524., 2911., 1778.,  288.,  266.,\n",
       "          24.,  114.]),\n",
       " array([0.5  , 0.725, 0.95 , 1.175, 1.4  , 1.625, 1.85 , 2.075, 2.3  ,\n",
       "        2.525, 2.75 , 2.975, 3.2  , 3.425, 3.65 , 3.875, 4.1  , 4.325,\n",
       "        4.55 , 4.775, 5.   ]),\n",
       " <BarContainer object of 20 artists>)"
      ]
     },
     "execution_count": 19,
     "metadata": {},
     "output_type": "execute_result"
    },
    {
     "data": {
      "image/png": "[encoded data removed]",
      "text/plain": [
       "<Figure size 432x288 with 1 Axes>"
      ]
     },
     "metadata": {
      "needs_background": "light"
     },
     "output_type": "display_data"
    }
   ],
   "source": [
    "plt.hist(movie_ave,bins=20)"
   ]
  },
  {
   "cell_type": "code",
   "execution_count": 20,
   "id": "c78f8116",
   "metadata": {},
   "outputs": [],
   "source": [
    "high_voice_movie=ratings[ratings.timestamp >='2014-4-1'].groupby('movieId')['rating'].count()\n",
    "# in the past 1 year, the movie has more rating."
   ]
  },
  {
   "cell_type": "code",
   "execution_count": 21,
   "id": "6c9ace76",
   "metadata": {},
   "outputs": [],
   "source": [
    "high_voice_movie=high_voice_movie.sort_values(ascending=False)"
   ]
  },
  {
   "cell_type": "code",
   "execution_count": 22,
   "id": "4cdcc75e",
   "metadata": {},
   "outputs": [
    {
     "data": {
      "text/plain": [
       "movieId\n",
       "2571     2829\n",
       "318      2797\n",
       "79132    2766\n",
       "58559    2668\n",
       "4993     2449\n",
       "         ... \n",
       "1214      966\n",
       "3147      963\n",
       "3949      955\n",
       "4011      952\n",
       "46578     950\n",
       "Name: rating, Length: 100, dtype: int64"
      ]
     },
     "execution_count": 22,
     "metadata": {},
     "output_type": "execute_result"
    }
   ],
   "source": [
    "high_voice_movie[:100]"
   ]
  },
  {
   "cell_type": "code",
   "execution_count": 23,
   "id": "c1b6e944",
   "metadata": {},
   "outputs": [
    {
     "data": {
      "text/plain": [
       "Int64Index([  2571,    318,  79132,  58559,   4993,   2959,   7153,   5952,\n",
       "            109374,    296, 112852,    858,    527,    593,    260,    356,\n",
       "              1198,     50,  99114,   4226, 109487,   4973,   2858,   1196,\n",
       "            111759,   3578,  68954, 111362,   4306, 106782, 112556,   6539,\n",
       "             91529, 106920,  60069,   7361,   6377,   1193, 104841,  72998,\n",
       "             89745,   2762,   2028,  68157,   5618,  59315,   1221,   6874,\n",
       "              2329,   4886,  33794, 110102,   8961,  48516,    110, 106487,\n",
       "             44191,  92259,  63082,  81845,   1197,   1136,   5418,   1704,\n",
       "              4995,   4878,   4963,     47,   6016,   2324,  74458,   1210,\n",
       "                 1,  48394,  91500,  48780,   7438, 108932,    608,  70286,\n",
       "             54286,   1213,   3793,   1089, 106489,   1270,   1291,    589,\n",
       "             76093,   5445,    541,   1682,  78499,   5349,   5989,   1214,\n",
       "              3147,   3949,   4011,  46578],\n",
       "           dtype='int64', name='movieId')"
      ]
     },
     "execution_count": 23,
     "metadata": {},
     "output_type": "execute_result"
    }
   ],
   "source": [
    "high_voice_movie[:100].index"
   ]
  },
  {
   "cell_type": "markdown",
   "id": "7698fdc1",
   "metadata": {},
   "source": [
    "## Hot Recomdation: Recent 1 year with high views and rating "
   ]
  },
  {
   "cell_type": "code",
   "execution_count": 24,
   "id": "5f2c93bb",
   "metadata": {},
   "outputs": [],
   "source": [
    "movie_recom1 = []\n",
    "for i in high_voice_movie[:100].index:\n",
    "    if movie_ave[i] >= 4.2:    #4.2 is the average rating of the movie\n",
    "        movie_recom1.append(i)   "
   ]
  },
  {
   "cell_type": "code",
   "execution_count": 25,
   "id": "a52e558e",
   "metadata": {},
   "outputs": [
    {
     "data": {
      "text/plain": [
       "[318, 58559, 2959, 858, 527, 1198, 50, 1193, 5618, 1221, 6016]"
      ]
     },
     "execution_count": 25,
     "metadata": {},
     "output_type": "execute_result"
    }
   ],
   "source": [
    "movie_recom1"
   ]
  },
  {
   "cell_type": "code",
   "execution_count": 27,
   "id": "1636edfe",
   "metadata": {},
   "outputs": [
    {
     "data": {
      "text/plain": [
       "4.446990499637029"
      ]
     },
     "execution_count": 27,
     "metadata": {},
     "output_type": "execute_result"
    }
   ],
   "source": [
    "movie_ave[318]"
   ]
  },
  {
   "cell_type": "markdown",
   "id": "9b42b3fe",
   "metadata": {},
   "source": [
    "### Data inspecting for tags \n"
   ]
  },
  {
   "cell_type": "code",
   "execution_count": 28,
   "id": "cd0f6f1e",
   "metadata": {},
   "outputs": [],
   "source": [
    "tags = pd.read_csv('data2/genome_scores.csv')"
   ]
  },
  {
   "cell_type": "code",
   "execution_count": 29,
   "id": "c4d64deb",
   "metadata": {},
   "outputs": [
    {
     "data": {
      "text/plain": [
       "(11709768, 3)"
      ]
     },
     "execution_count": 29,
     "metadata": {},
     "output_type": "execute_result"
    }
   ],
   "source": [
    "tags.shape"
   ]
  },
  {
   "cell_type": "code",
   "execution_count": 30,
   "id": "aab8e706",
   "metadata": {},
   "outputs": [
    {
     "data": {
      "text/plain": [
       "movieId        int64\n",
       "tagId          int64\n",
       "relevance    float64\n",
       "dtype: object"
      ]
     },
     "execution_count": 30,
     "metadata": {},
     "output_type": "execute_result"
    }
   ],
   "source": [
    "tags.dtypes"
   ]
  },
  {
   "cell_type": "code",
   "execution_count": 31,
   "id": "26f1c86a",
   "metadata": {},
   "outputs": [
    {
     "data": {
      "text/plain": [
       "movieId      0\n",
       "tagId        0\n",
       "relevance    0\n",
       "dtype: int64"
      ]
     },
     "execution_count": 31,
     "metadata": {},
     "output_type": "execute_result"
    }
   ],
   "source": [
    "tags.isnull().sum()  #good data"
   ]
  },
  {
   "cell_type": "code",
   "execution_count": 32,
   "id": "6613a935",
   "metadata": {},
   "outputs": [
    {
     "data": {
      "text/html": [
       "<div>\n",
       "<style scoped>\n",
       "    .dataframe tbody tr th:only-of-type {\n",
       "        vertical-align: middle;\n",
       "    }\n",
       "\n",
       "    .dataframe tbody tr th {\n",
       "        vertical-align: top;\n",
       "    }\n",
       "\n",
       "    .dataframe thead th {\n",
       "        text-align: right;\n",
       "    }\n",
       "</style>\n",
       "<table border=\"1\" class=\"dataframe\">\n",
       "  <thead>\n",
       "    <tr style=\"text-align: right;\">\n",
       "      <th></th>\n",
       "      <th>count</th>\n",
       "      <th>mean</th>\n",
       "      <th>std</th>\n",
       "      <th>min</th>\n",
       "      <th>25%</th>\n",
       "      <th>50%</th>\n",
       "      <th>75%</th>\n",
       "      <th>max</th>\n",
       "    </tr>\n",
       "  </thead>\n",
       "  <tbody>\n",
       "    <tr>\n",
       "      <th>movieId</th>\n",
       "      <td>11709768.0</td>\n",
       "      <td>25842.965803</td>\n",
       "      <td>34676.151996</td>\n",
       "      <td>1.00000</td>\n",
       "      <td>2926.00000</td>\n",
       "      <td>6017.0000</td>\n",
       "      <td>46062.0000</td>\n",
       "      <td>131170.0</td>\n",
       "    </tr>\n",
       "    <tr>\n",
       "      <th>tagId</th>\n",
       "      <td>11709768.0</td>\n",
       "      <td>564.500000</td>\n",
       "      <td>325.625438</td>\n",
       "      <td>1.00000</td>\n",
       "      <td>282.75000</td>\n",
       "      <td>564.5000</td>\n",
       "      <td>846.2500</td>\n",
       "      <td>1128.0</td>\n",
       "    </tr>\n",
       "    <tr>\n",
       "      <th>relevance</th>\n",
       "      <td>11709768.0</td>\n",
       "      <td>0.116483</td>\n",
       "      <td>0.154246</td>\n",
       "      <td>0.00025</td>\n",
       "      <td>0.02425</td>\n",
       "      <td>0.0565</td>\n",
       "      <td>0.1415</td>\n",
       "      <td>1.0</td>\n",
       "    </tr>\n",
       "  </tbody>\n",
       "</table>\n",
       "</div>"
      ],
      "text/plain": [
       "                count          mean           std      min         25%  \\\n",
       "movieId    11709768.0  25842.965803  34676.151996  1.00000  2926.00000   \n",
       "tagId      11709768.0    564.500000    325.625438  1.00000   282.75000   \n",
       "relevance  11709768.0      0.116483      0.154246  0.00025     0.02425   \n",
       "\n",
       "                 50%         75%       max  \n",
       "movieId    6017.0000  46062.0000  131170.0  \n",
       "tagId       564.5000    846.2500    1128.0  \n",
       "relevance     0.0565      0.1415       1.0  "
      ]
     },
     "execution_count": 32,
     "metadata": {},
     "output_type": "execute_result"
    }
   ],
   "source": [
    "tags.describe().T"
   ]
  },
  {
   "cell_type": "code",
   "execution_count": 33,
   "id": "bed0ee36",
   "metadata": {},
   "outputs": [
    {
     "data": {
      "text/plain": [
       "19800443"
      ]
     },
     "execution_count": 33,
     "metadata": {},
     "output_type": "execute_result"
    }
   ],
   "source": [
    "len(ratings[ratings['movieId'].isin(tags['movieId'])])"
   ]
  },
  {
   "cell_type": "code",
   "execution_count": 34,
   "id": "be2485c8",
   "metadata": {},
   "outputs": [
    {
     "data": {
      "text/plain": [
       "199820"
      ]
     },
     "execution_count": 34,
     "metadata": {},
     "output_type": "execute_result"
    }
   ],
   "source": [
    "len(ratings[~ratings['movieId'].isin(tags['movieId'])])"
   ]
  },
  {
   "cell_type": "code",
   "execution_count": 35,
   "id": "e4487a0c",
   "metadata": {},
   "outputs": [
    {
     "data": {
      "text/plain": [
       "10370"
      ]
     },
     "execution_count": 35,
     "metadata": {},
     "output_type": "execute_result"
    }
   ],
   "source": [
    "ratings[ratings['movieId'].isin(tags['movieId'])]['movieId'].nunique()"
   ]
  },
  {
   "cell_type": "code",
   "execution_count": 36,
   "id": "382f0013",
   "metadata": {},
   "outputs": [
    {
     "data": {
      "text/plain": [
       "16374"
      ]
     },
     "execution_count": 36,
     "metadata": {},
     "output_type": "execute_result"
    }
   ],
   "source": [
    "ratings[~ratings['movieId'].isin(tags['movieId'])]['movieId'].nunique()"
   ]
  },
  {
   "cell_type": "code",
   "execution_count": 37,
   "id": "2c160cbf",
   "metadata": {},
   "outputs": [
    {
     "data": {
      "text/plain": [
       "10381"
      ]
     },
     "execution_count": 37,
     "metadata": {},
     "output_type": "execute_result"
    }
   ],
   "source": [
    "tags['movieId'].nunique()"
   ]
  },
  {
   "cell_type": "markdown",
   "id": "24d71a72",
   "metadata": {},
   "source": [
    "only delete the movies don't have tags. Delete 16374 movies, but remain 99% of rating.\n",
    "for sake of right size of matrix(20k users and 16k movies)"
   ]
  },
  {
   "cell_type": "code",
   "execution_count": 38,
   "id": "9be69c93",
   "metadata": {},
   "outputs": [],
   "source": [
    "data=ratings[ratings['movieId'].isin(tags['movieId'])]\n"
   ]
  },
  {
   "cell_type": "code",
   "execution_count": 39,
   "id": "428ef7fb",
   "metadata": {},
   "outputs": [
    {
     "data": {
      "text/plain": [
       "10780656"
      ]
     },
     "execution_count": 39,
     "metadata": {},
     "output_type": "execute_result"
    }
   ],
   "source": [
    "data=data[data['userId'].isin(user_active.index)]\n",
    "len(data)"
   ]
  },
  {
   "cell_type": "code",
   "execution_count": 40,
   "id": "8d533dcc",
   "metadata": {},
   "outputs": [
    {
     "data": {
      "text/plain": [
       "10369"
      ]
     },
     "execution_count": 40,
     "metadata": {},
     "output_type": "execute_result"
    }
   ],
   "source": [
    "data['movieId'].nunique()"
   ]
  },
  {
   "cell_type": "markdown",
   "id": "00593a09",
   "metadata": {},
   "source": [
    "### collaborative recommandation(movie_recom2) use data to reduce the size of the dataset"
   ]
  },
  {
   "cell_type": "code",
   "execution_count": 41,
   "id": "034d9365",
   "metadata": {},
   "outputs": [],
   "source": [
    "user_movie_matrix=pd.pivot_table(data,values='rating', index=['userId'], columns=['movieId'])"
   ]
  },
  {
   "cell_type": "code",
   "execution_count": 42,
   "id": "ea370e84",
   "metadata": {},
   "outputs": [
    {
     "data": {
      "text/html": [
       "<div>\n",
       "<style scoped>\n",
       "    .dataframe tbody tr th:only-of-type {\n",
       "        vertical-align: middle;\n",
       "    }\n",
       "\n",
       "    .dataframe tbody tr th {\n",
       "        vertical-align: top;\n",
       "    }\n",
       "\n",
       "    .dataframe thead th {\n",
       "        text-align: right;\n",
       "    }\n",
       "</style>\n",
       "<table border=\"1\" class=\"dataframe\">\n",
       "  <thead>\n",
       "    <tr style=\"text-align: right;\">\n",
       "      <th>movieId</th>\n",
       "      <th>1</th>\n",
       "      <th>2</th>\n",
       "      <th>3</th>\n",
       "      <th>4</th>\n",
       "      <th>5</th>\n",
       "      <th>6</th>\n",
       "      <th>7</th>\n",
       "      <th>8</th>\n",
       "      <th>9</th>\n",
       "      <th>10</th>\n",
       "      <th>...</th>\n",
       "      <th>130075</th>\n",
       "      <th>130087</th>\n",
       "      <th>130490</th>\n",
       "      <th>130496</th>\n",
       "      <th>130520</th>\n",
       "      <th>130578</th>\n",
       "      <th>130840</th>\n",
       "      <th>131013</th>\n",
       "      <th>131168</th>\n",
       "      <th>131170</th>\n",
       "    </tr>\n",
       "    <tr>\n",
       "      <th>userId</th>\n",
       "      <th></th>\n",
       "      <th></th>\n",
       "      <th></th>\n",
       "      <th></th>\n",
       "      <th></th>\n",
       "      <th></th>\n",
       "      <th></th>\n",
       "      <th></th>\n",
       "      <th></th>\n",
       "      <th></th>\n",
       "      <th></th>\n",
       "      <th></th>\n",
       "      <th></th>\n",
       "      <th></th>\n",
       "      <th></th>\n",
       "      <th></th>\n",
       "      <th></th>\n",
       "      <th></th>\n",
       "      <th></th>\n",
       "      <th></th>\n",
       "      <th></th>\n",
       "    </tr>\n",
       "  </thead>\n",
       "  <tbody>\n",
       "    <tr>\n",
       "      <th>89913</th>\n",
       "      <td>NaN</td>\n",
       "      <td>2.5</td>\n",
       "      <td>NaN</td>\n",
       "      <td>NaN</td>\n",
       "      <td>NaN</td>\n",
       "      <td>NaN</td>\n",
       "      <td>NaN</td>\n",
       "      <td>NaN</td>\n",
       "      <td>NaN</td>\n",
       "      <td>NaN</td>\n",
       "      <td>...</td>\n",
       "      <td>NaN</td>\n",
       "      <td>NaN</td>\n",
       "      <td>NaN</td>\n",
       "      <td>NaN</td>\n",
       "      <td>NaN</td>\n",
       "      <td>NaN</td>\n",
       "      <td>NaN</td>\n",
       "      <td>NaN</td>\n",
       "      <td>NaN</td>\n",
       "      <td>NaN</td>\n",
       "    </tr>\n",
       "    <tr>\n",
       "      <th>67139</th>\n",
       "      <td>4.0</td>\n",
       "      <td>2.0</td>\n",
       "      <td>NaN</td>\n",
       "      <td>NaN</td>\n",
       "      <td>NaN</td>\n",
       "      <td>NaN</td>\n",
       "      <td>NaN</td>\n",
       "      <td>NaN</td>\n",
       "      <td>NaN</td>\n",
       "      <td>4.0</td>\n",
       "      <td>...</td>\n",
       "      <td>NaN</td>\n",
       "      <td>NaN</td>\n",
       "      <td>NaN</td>\n",
       "      <td>NaN</td>\n",
       "      <td>NaN</td>\n",
       "      <td>NaN</td>\n",
       "      <td>NaN</td>\n",
       "      <td>NaN</td>\n",
       "      <td>NaN</td>\n",
       "      <td>NaN</td>\n",
       "    </tr>\n",
       "    <tr>\n",
       "      <th>49863</th>\n",
       "      <td>3.5</td>\n",
       "      <td>NaN</td>\n",
       "      <td>NaN</td>\n",
       "      <td>NaN</td>\n",
       "      <td>NaN</td>\n",
       "      <td>NaN</td>\n",
       "      <td>NaN</td>\n",
       "      <td>NaN</td>\n",
       "      <td>NaN</td>\n",
       "      <td>NaN</td>\n",
       "      <td>...</td>\n",
       "      <td>NaN</td>\n",
       "      <td>NaN</td>\n",
       "      <td>NaN</td>\n",
       "      <td>NaN</td>\n",
       "      <td>NaN</td>\n",
       "      <td>NaN</td>\n",
       "      <td>NaN</td>\n",
       "      <td>NaN</td>\n",
       "      <td>NaN</td>\n",
       "      <td>NaN</td>\n",
       "    </tr>\n",
       "    <tr>\n",
       "      <th>127649</th>\n",
       "      <td>4.0</td>\n",
       "      <td>1.5</td>\n",
       "      <td>NaN</td>\n",
       "      <td>NaN</td>\n",
       "      <td>NaN</td>\n",
       "      <td>NaN</td>\n",
       "      <td>NaN</td>\n",
       "      <td>NaN</td>\n",
       "      <td>NaN</td>\n",
       "      <td>3.0</td>\n",
       "      <td>...</td>\n",
       "      <td>NaN</td>\n",
       "      <td>NaN</td>\n",
       "      <td>NaN</td>\n",
       "      <td>NaN</td>\n",
       "      <td>NaN</td>\n",
       "      <td>NaN</td>\n",
       "      <td>NaN</td>\n",
       "      <td>NaN</td>\n",
       "      <td>NaN</td>\n",
       "      <td>NaN</td>\n",
       "    </tr>\n",
       "    <tr>\n",
       "      <th>115226</th>\n",
       "      <td>4.0</td>\n",
       "      <td>2.0</td>\n",
       "      <td>NaN</td>\n",
       "      <td>NaN</td>\n",
       "      <td>2.0</td>\n",
       "      <td>3.0</td>\n",
       "      <td>2.5</td>\n",
       "      <td>NaN</td>\n",
       "      <td>NaN</td>\n",
       "      <td>2.0</td>\n",
       "      <td>...</td>\n",
       "      <td>NaN</td>\n",
       "      <td>NaN</td>\n",
       "      <td>NaN</td>\n",
       "      <td>NaN</td>\n",
       "      <td>NaN</td>\n",
       "      <td>NaN</td>\n",
       "      <td>NaN</td>\n",
       "      <td>NaN</td>\n",
       "      <td>NaN</td>\n",
       "      <td>NaN</td>\n",
       "    </tr>\n",
       "  </tbody>\n",
       "</table>\n",
       "<p>5 rows × 10369 columns</p>\n",
       "</div>"
      ],
      "text/plain": [
       "movieId  1       2       3       4       5       6       7       8       \\\n",
       "userId                                                                    \n",
       "89913       NaN     2.5     NaN     NaN     NaN     NaN     NaN     NaN   \n",
       "67139       4.0     2.0     NaN     NaN     NaN     NaN     NaN     NaN   \n",
       "49863       3.5     NaN     NaN     NaN     NaN     NaN     NaN     NaN   \n",
       "127649      4.0     1.5     NaN     NaN     NaN     NaN     NaN     NaN   \n",
       "115226      4.0     2.0     NaN     NaN     2.0     3.0     2.5     NaN   \n",
       "\n",
       "movieId  9       10      ...  130075  130087  130490  130496  130520  130578  \\\n",
       "userId                   ...                                                   \n",
       "89913       NaN     NaN  ...     NaN     NaN     NaN     NaN     NaN     NaN   \n",
       "67139       NaN     4.0  ...     NaN     NaN     NaN     NaN     NaN     NaN   \n",
       "49863       NaN     NaN  ...     NaN     NaN     NaN     NaN     NaN     NaN   \n",
       "127649      NaN     3.0  ...     NaN     NaN     NaN     NaN     NaN     NaN   \n",
       "115226      NaN     2.0  ...     NaN     NaN     NaN     NaN     NaN     NaN   \n",
       "\n",
       "movieId  130840  131013  131168  131170  \n",
       "userId                                   \n",
       "89913       NaN     NaN     NaN     NaN  \n",
       "67139       NaN     NaN     NaN     NaN  \n",
       "49863       NaN     NaN     NaN     NaN  \n",
       "127649      NaN     NaN     NaN     NaN  \n",
       "115226      NaN     NaN     NaN     NaN  \n",
       "\n",
       "[5 rows x 10369 columns]"
      ]
     },
     "execution_count": 42,
     "metadata": {},
     "output_type": "execute_result"
    }
   ],
   "source": [
    "user_movie_matrix.sample(5)"
   ]
  },
  {
   "cell_type": "code",
   "execution_count": 43,
   "id": "5cdcca0d",
   "metadata": {},
   "outputs": [
    {
     "data": {
      "text/plain": [
       "(20000, 10369)"
      ]
     },
     "execution_count": 43,
     "metadata": {},
     "output_type": "execute_result"
    }
   ],
   "source": [
    "user_movie_matrix.shape"
   ]
  },
  {
   "cell_type": "code",
   "execution_count": 44,
   "id": "1ee1dc6a",
   "metadata": {},
   "outputs": [],
   "source": [
    "from scipy.spatial.distance import hamming \n",
    "\n",
    "def nearestneighbours(user,K):\n",
    "    # create a user df that contains all users except active user\n",
    "    allUsers = pd.DataFrame(user_movie_matrix.index)  #only need user\n",
    "    allUsers = allUsers[allUsers.userId!=user]\n",
    "    # Add a column to this df which contains distance of active user to each user\n",
    "    allUsers[\"distance\"] = allUsers[\"userId\"].apply(lambda x: hamming(user_movie_matrix.loc[user],user_movie_matrix.loc[x]))\n",
    "    KnearestUsers = allUsers.sort_values([\"distance\"],ascending=True)[\"userId\"][:K]   #.loc[index] return the rows\n",
    "    return KnearestUsers"
   ]
  },
  {
   "cell_type": "code",
   "execution_count": 45,
   "id": "708b9fa3",
   "metadata": {},
   "outputs": [
    {
     "data": {
      "text/plain": [
       "pandas.core.series.Series"
      ]
     },
     "execution_count": 45,
     "metadata": {},
     "output_type": "execute_result"
    }
   ],
   "source": [
    "type(nearestneighbours(45008,5))  #nearestneighbours(45008,5) is a pd series"
   ]
  },
  {
   "cell_type": "code",
   "execution_count": 46,
   "id": "ed6e6ce3",
   "metadata": {},
   "outputs": [],
   "source": [
    "import numpy as np\n",
    "def topN(user,N=10):\n",
    "    KnearestUsers = nearestneighbours(user,10)\n",
    "    # get the ratings given by nearest neighbours\n",
    "    neib_data = user_movie_matrix[user_movie_matrix.index.isin(KnearestUsers)]  #return 10 rows of matrix\n",
    "    # Find the average rating of each movie rated by nearest neighbours\n",
    "    avg_rating = neib_data.apply(np.nanmean).dropna()  #find the mean even lots of nan value\n",
    "    # drop the movies already watched by active user\n",
    "    movie_already_watch = user_movie_matrix.loc[user].dropna().index\n",
    "    avg_rating = avg_rating[~avg_rating.index.isin(movie_already_watch)]  #series can use isin and index\n",
    "    top_movies_id = avg_rating.sort_values(ascending=False).index[:N]\n",
    "    return top_movies_id"
   ]
  },
  {
   "cell_type": "markdown",
   "id": "63eefa32",
   "metadata": {},
   "source": [
    "## Collaborative Recommandation"
   ]
  },
  {
   "cell_type": "code",
   "execution_count": 49,
   "id": "59e6a885",
   "metadata": {},
   "outputs": [
    {
     "name": "stderr",
     "output_type": "stream",
     "text": [
      "C:\\Users\\Michael Meng\\anaconda3\\lib\\site-packages\\pandas\\core\\apply.py:290: RuntimeWarning: Mean of empty slice\n",
      "  results[i] = self.f(v)\n"
     ]
    },
    {
     "data": {
      "text/plain": [
       "Int64Index([25771, 94466, 7773, 49225, 846, 49917, 96829, 3913, 6902, 104944], dtype='int64', name='movieId')"
      ]
     },
     "execution_count": 49,
     "metadata": {},
     "output_type": "execute_result"
    }
   ],
   "source": [
    "topN(45008)"
   ]
  },
  {
   "cell_type": "markdown",
   "id": "7d1c2f27",
   "metadata": {},
   "source": [
    "## Try to content recommandation(use tags reference)"
   ]
  },
  {
   "cell_type": "code",
   "execution_count": 50,
   "id": "273e750b",
   "metadata": {},
   "outputs": [],
   "source": [
    "# comply with user_movie_matrix for collaborative recommentation\n",
    "tags = tags[tags['movieId'].isin(user_movie_matrix.columns)]"
   ]
  },
  {
   "cell_type": "code",
   "execution_count": 51,
   "id": "f610ed95",
   "metadata": {},
   "outputs": [
    {
     "data": {
      "text/plain": [
       "10369"
      ]
     },
     "execution_count": 51,
     "metadata": {},
     "output_type": "execute_result"
    }
   ],
   "source": [
    "tags['movieId'].nunique()"
   ]
  },
  {
   "cell_type": "code",
   "execution_count": 52,
   "id": "e2a3e062",
   "metadata": {},
   "outputs": [],
   "source": [
    "allusers=user_movie_matrix.index  # an index"
   ]
  },
  {
   "cell_type": "code",
   "execution_count": 53,
   "id": "f7f8ffd1",
   "metadata": {},
   "outputs": [
    {
     "data": {
      "text/plain": [
       "Int64Index([     7,     11,     24,     54,     58,     69,     82,     91,\n",
       "                96,    104,\n",
       "            ...\n",
       "            138437, 138454, 138456, 138457, 138459, 138467, 138472, 138474,\n",
       "            138483, 138493],\n",
       "           dtype='int64', name='userId', length=20000)"
      ]
     },
     "execution_count": 53,
     "metadata": {},
     "output_type": "execute_result"
    }
   ],
   "source": [
    "allusers"
   ]
  },
  {
   "cell_type": "code",
   "execution_count": 54,
   "id": "54d93694",
   "metadata": {},
   "outputs": [],
   "source": [
    "movie_tag_matrix = pd.pivot_table(tags,values='relevance',index=['movieId'],columns=['tagId'])"
   ]
  },
  {
   "cell_type": "code",
   "execution_count": 55,
   "id": "1fc647e3",
   "metadata": {},
   "outputs": [
    {
     "data": {
      "text/plain": [
       "(10369, 1128)"
      ]
     },
     "execution_count": 55,
     "metadata": {},
     "output_type": "execute_result"
    }
   ],
   "source": [
    "movie_tag_matrix.shape"
   ]
  },
  {
   "cell_type": "code",
   "execution_count": 56,
   "id": "3be545b0",
   "metadata": {},
   "outputs": [],
   "source": [
    "#from scipy.spatial.distance import hamming \n",
    "def movie_nei(user, k):\n",
    "\n",
    "    movies_watched=user_movie_matrix.loc[user].dropna().index\n",
    "    user_tag_small=movie_tag_matrix[movie_tag_matrix.index.isin(movies_watched)]\n",
    "    user_tag_mean=user_tag_small.apply(np.nanmean)\n",
    "    \n",
    "    allmovie=pd.DataFrame(movie_tag_matrix.index)    \n",
    "    #allmovie['distance'] = allmovie['movieId'].apply(lambda x: hamming(user_tag_mean,movie_tag_matrix.loc[x]))\n",
    "    allmovie['distance'] = allmovie['movieId'].apply(lambda x: sum(abs(user_tag_mean-movie_tag_matrix.loc[x])))\n",
    "    \n",
    "    allmovie=allmovie[~allmovie['movieId'].isin(movies_watched)]\n",
    "    near_movies = allmovie.sort_values(['distance'],ascending=True)['movieId'][:k]\n",
    "   \n",
    "    return near_movies"
   ]
  },
  {
   "cell_type": "markdown",
   "id": "6999d285",
   "metadata": {},
   "source": [
    "## recom3"
   ]
  },
  {
   "cell_type": "code",
   "execution_count": 58,
   "id": "53f9f5a2",
   "metadata": {},
   "outputs": [
    {
     "data": {
      "text/plain": [
       "8954      74152\n",
       "5076       5847\n",
       "5819       6902\n",
       "10326    127098\n",
       "3569       4035\n",
       "5805       6884\n",
       "9887     104069\n",
       "7603      40946\n",
       "9309      86347\n",
       "3865       4371\n",
       "Name: movieId, dtype: int64"
      ]
     },
     "execution_count": 58,
     "metadata": {},
     "output_type": "execute_result"
    }
   ],
   "source": [
    "movie_nei(45008, 10)"
   ]
  },
  {
   "cell_type": "code",
   "execution_count": 59,
   "id": "a4c34c3f",
   "metadata": {},
   "outputs": [
    {
     "data": {
      "text/plain": [
       "pandas.core.series.Series"
      ]
     },
     "execution_count": 59,
     "metadata": {},
     "output_type": "execute_result"
    }
   ],
   "source": [
    "type(movie_nei(45008, 10))"
   ]
  },
  {
   "cell_type": "code",
   "execution_count": 60,
   "id": "3fb60475",
   "metadata": {},
   "outputs": [
    {
     "name": "stderr",
     "output_type": "stream",
     "text": [
      "C:\\Users\\Michael Meng\\anaconda3\\lib\\site-packages\\pandas\\core\\apply.py:290: RuntimeWarning: Mean of empty slice\n",
      "  results[i] = self.f(v)\n"
     ]
    },
    {
     "name": "stdout",
     "output_type": "stream",
     "text": [
      "recom1\n",
      " [318, 58559, 2959, 858, 527, 1198, 50, 1193, 5618, 1221, 6016] \n",
      "recom2 for 45008\n",
      " Int64Index([25771, 94466, 7773, 49225, 846, 49917, 96829, 3913, 6902, 104944], dtype='int64', name='movieId') \n",
      "recom3 for 45008\n",
      " 8954      74152\n",
      "5076       5847\n",
      "5819       6902\n",
      "10326    127098\n",
      "3569       4035\n",
      "5805       6884\n",
      "9887     104069\n",
      "7603      40946\n",
      "9309      86347\n",
      "3865       4371\n",
      "Name: movieId, dtype: int64\n"
     ]
    }
   ],
   "source": [
    "print('recom1\\n',movie_recom1,'\\nrecom2 for 45008\\n',topN(45008),'\\nrecom3 for 45008\\n',movie_nei(45008,10))"
   ]
  },
  {
   "cell_type": "markdown",
   "id": "905b8510",
   "metadata": {},
   "source": [
    "## recom4 machine learning"
   ]
  },
  {
   "cell_type": "code",
   "execution_count": 61,
   "id": "f5c8a91b",
   "metadata": {},
   "outputs": [],
   "source": [
    "movie = pd.read_csv('data2/movie.csv')"
   ]
  },
  {
   "cell_type": "code",
   "execution_count": 62,
   "id": "538304eb",
   "metadata": {},
   "outputs": [],
   "source": [
    "c=ratings[~ratings['movieId'].isin(movie['movieId'].values)]"
   ]
  },
  {
   "cell_type": "code",
   "execution_count": 63,
   "id": "31c9eff1",
   "metadata": {},
   "outputs": [
    {
     "data": {
      "text/html": [
       "<div>\n",
       "<style scoped>\n",
       "    .dataframe tbody tr th:only-of-type {\n",
       "        vertical-align: middle;\n",
       "    }\n",
       "\n",
       "    .dataframe tbody tr th {\n",
       "        vertical-align: top;\n",
       "    }\n",
       "\n",
       "    .dataframe thead th {\n",
       "        text-align: right;\n",
       "    }\n",
       "</style>\n",
       "<table border=\"1\" class=\"dataframe\">\n",
       "  <thead>\n",
       "    <tr style=\"text-align: right;\">\n",
       "      <th></th>\n",
       "      <th>userId</th>\n",
       "      <th>movieId</th>\n",
       "      <th>rating</th>\n",
       "      <th>timestamp</th>\n",
       "    </tr>\n",
       "  </thead>\n",
       "  <tbody>\n",
       "  </tbody>\n",
       "</table>\n",
       "</div>"
      ],
      "text/plain": [
       "Empty DataFrame\n",
       "Columns: [userId, movieId, rating, timestamp]\n",
       "Index: []"
      ]
     },
     "execution_count": 63,
     "metadata": {},
     "output_type": "execute_result"
    }
   ],
   "source": [
    "c"
   ]
  },
  {
   "cell_type": "code",
   "execution_count": 187,
   "id": "d43ecf20",
   "metadata": {},
   "outputs": [],
   "source": [
    "ratings = data[data['movieId'].isin(movie['movieId'].values)]\n"
   ]
  },
  {
   "cell_type": "code",
   "execution_count": 188,
   "id": "0b2b0cee",
   "metadata": {},
   "outputs": [
    {
     "data": {
      "text/plain": [
       "(10780656, 5)"
      ]
     },
     "execution_count": 188,
     "metadata": {},
     "output_type": "execute_result"
    }
   ],
   "source": [
    "data.shape"
   ]
  },
  {
   "cell_type": "code",
   "execution_count": 190,
   "id": "d0b54d0f",
   "metadata": {},
   "outputs": [
    {
     "data": {
      "text/plain": [
       "Int64Index([     541,      542,      543,      544,      545,      546,\n",
       "                 547,      548,      549,      550,\n",
       "            ...\n",
       "            20000252, 20000253, 20000254, 20000255, 20000257, 20000258,\n",
       "            20000259, 20000260, 20000261, 20000262],\n",
       "           dtype='int64', length=10780656)"
      ]
     },
     "execution_count": 190,
     "metadata": {},
     "output_type": "execute_result"
    }
   ],
   "source": [
    "data.index"
   ]
  },
  {
   "cell_type": "code",
   "execution_count": 189,
   "id": "002c5293",
   "metadata": {},
   "outputs": [
    {
     "data": {
      "text/plain": [
       "541             3\n",
       "542             7\n",
       "543            11\n",
       "544            15\n",
       "545            16\n",
       "            ...  \n",
       "20000258    68954\n",
       "20000259    69526\n",
       "20000260    69644\n",
       "20000261    70286\n",
       "20000262    71619\n",
       "Name: movieId, Length: 10780656, dtype: int64"
      ]
     },
     "execution_count": 189,
     "metadata": {},
     "output_type": "execute_result"
    }
   ],
   "source": [
    "data['movieId']"
   ]
  },
  {
   "cell_type": "code",
   "execution_count": 173,
   "id": "1037e4c3",
   "metadata": {},
   "outputs": [
    {
     "data": {
      "text/plain": [
       "Int64Index([     1,      2,      3,      4,      5,      6,      7,      8,\n",
       "                 9,     10,\n",
       "            ...\n",
       "            130075, 130087, 130490, 130496, 130520, 130578, 130840, 131013,\n",
       "            131168, 131170],\n",
       "           dtype='int64', name='movieId', length=10369)"
      ]
     },
     "execution_count": 173,
     "metadata": {},
     "output_type": "execute_result"
    }
   ],
   "source": [
    "user_movie_matrix.columns"
   ]
  },
  {
   "cell_type": "code",
   "execution_count": 175,
   "id": "b90b1995",
   "metadata": {},
   "outputs": [
    {
     "data": {
      "text/html": [
       "<div>\n",
       "<style scoped>\n",
       "    .dataframe tbody tr th:only-of-type {\n",
       "        vertical-align: middle;\n",
       "    }\n",
       "\n",
       "    .dataframe tbody tr th {\n",
       "        vertical-align: top;\n",
       "    }\n",
       "\n",
       "    .dataframe thead th {\n",
       "        text-align: right;\n",
       "    }\n",
       "</style>\n",
       "<table border=\"1\" class=\"dataframe\">\n",
       "  <thead>\n",
       "    <tr style=\"text-align: right;\">\n",
       "      <th></th>\n",
       "      <th>movieId</th>\n",
       "      <th>title</th>\n",
       "      <th>genres</th>\n",
       "    </tr>\n",
       "  </thead>\n",
       "  <tbody>\n",
       "    <tr>\n",
       "      <th>27192</th>\n",
       "      <td>131013</td>\n",
       "      <td>Get Hard (2015)</td>\n",
       "      <td>Comedy</td>\n",
       "    </tr>\n",
       "  </tbody>\n",
       "</table>\n",
       "</div>"
      ],
      "text/plain": [
       "       movieId            title  genres\n",
       "27192   131013  Get Hard (2015)  Comedy"
      ]
     },
     "execution_count": 175,
     "metadata": {},
     "output_type": "execute_result"
    }
   ],
   "source": [
    "movie[movie['movieId']==131013]"
   ]
  },
  {
   "cell_type": "markdown",
   "id": "169ff0c0",
   "metadata": {},
   "source": [
    "## Train_test split(the most recent movie as a test)"
   ]
  },
  {
   "cell_type": "code",
   "execution_count": 64,
   "id": "5fba1836",
   "metadata": {},
   "outputs": [],
   "source": [
    "rand_userIds = np.random.choice(ratings['userId'].unique(), \n",
    "                                size=int(len(ratings['userId'].unique())*0.3), \n",
    "                                replace=False)\n",
    "\n",
    "ratings = ratings.loc[ratings['userId'].isin(rand_userIds)]"
   ]
  },
  {
   "cell_type": "code",
   "execution_count": 65,
   "id": "4555464f",
   "metadata": {},
   "outputs": [],
   "source": [
    "ratings['recent'] = ratings.groupby(['userId'])['timestamp'].rank(method='max', ascending=False)\n"
   ]
  },
  {
   "cell_type": "code",
   "execution_count": 74,
   "id": "eb22f953",
   "metadata": {},
   "outputs": [
    {
     "data": {
      "text/plain": [
       "(5955198, 5)"
      ]
     },
     "execution_count": 74,
     "metadata": {},
     "output_type": "execute_result"
    }
   ],
   "source": [
    "ratings.shape"
   ]
  },
  {
   "cell_type": "code",
   "execution_count": 66,
   "id": "077d0de4",
   "metadata": {},
   "outputs": [
    {
     "data": {
      "text/html": [
       "<div>\n",
       "<style scoped>\n",
       "    .dataframe tbody tr th:only-of-type {\n",
       "        vertical-align: middle;\n",
       "    }\n",
       "\n",
       "    .dataframe tbody tr th {\n",
       "        vertical-align: top;\n",
       "    }\n",
       "\n",
       "    .dataframe thead th {\n",
       "        text-align: right;\n",
       "    }\n",
       "</style>\n",
       "<table border=\"1\" class=\"dataframe\">\n",
       "  <thead>\n",
       "    <tr style=\"text-align: right;\">\n",
       "      <th></th>\n",
       "      <th>userId</th>\n",
       "      <th>movieId</th>\n",
       "      <th>rating</th>\n",
       "      <th>timestamp</th>\n",
       "      <th>recent</th>\n",
       "    </tr>\n",
       "  </thead>\n",
       "  <tbody>\n",
       "    <tr>\n",
       "      <th>2920801</th>\n",
       "      <td>19829</td>\n",
       "      <td>8464</td>\n",
       "      <td>4.0</td>\n",
       "      <td>2005-01-02 17:08:56</td>\n",
       "      <td>151.0</td>\n",
       "    </tr>\n",
       "    <tr>\n",
       "      <th>1597780</th>\n",
       "      <td>10775</td>\n",
       "      <td>1394</td>\n",
       "      <td>3.5</td>\n",
       "      <td>2004-11-26 15:32:43</td>\n",
       "      <td>87.0</td>\n",
       "    </tr>\n",
       "    <tr>\n",
       "      <th>8021178</th>\n",
       "      <td>55273</td>\n",
       "      <td>2248</td>\n",
       "      <td>4.0</td>\n",
       "      <td>2004-11-13 00:46:10</td>\n",
       "      <td>198.0</td>\n",
       "    </tr>\n",
       "    <tr>\n",
       "      <th>14246415</th>\n",
       "      <td>98401</td>\n",
       "      <td>2949</td>\n",
       "      <td>5.0</td>\n",
       "      <td>1999-11-09 10:17:30</td>\n",
       "      <td>200.0</td>\n",
       "    </tr>\n",
       "    <tr>\n",
       "      <th>12261443</th>\n",
       "      <td>84711</td>\n",
       "      <td>2997</td>\n",
       "      <td>5.0</td>\n",
       "      <td>2000-11-20 05:49:27</td>\n",
       "      <td>1029.0</td>\n",
       "    </tr>\n",
       "  </tbody>\n",
       "</table>\n",
       "</div>"
      ],
      "text/plain": [
       "          userId  movieId  rating           timestamp  recent\n",
       "2920801    19829     8464     4.0 2005-01-02 17:08:56   151.0\n",
       "1597780    10775     1394     3.5 2004-11-26 15:32:43    87.0\n",
       "8021178    55273     2248     4.0 2004-11-13 00:46:10   198.0\n",
       "14246415   98401     2949     5.0 1999-11-09 10:17:30   200.0\n",
       "12261443   84711     2997     5.0 2000-11-20 05:49:27  1029.0"
      ]
     },
     "execution_count": 66,
     "metadata": {},
     "output_type": "execute_result"
    }
   ],
   "source": [
    "ratings.sample(5)"
   ]
  },
  {
   "cell_type": "code",
   "execution_count": 67,
   "id": "e72a78fd",
   "metadata": {},
   "outputs": [],
   "source": [
    "train_ratings = ratings[ratings['recent'] > 1]\n",
    "test_ratings = ratings[ratings['recent'] == 1]\n",
    "\n",
    "# drop columns that we no longer need\n",
    "train_ratings = train_ratings[['userId', 'movieId', 'rating']]\n",
    "test_ratings = test_ratings[['userId', 'movieId', 'rating']]"
   ]
  },
  {
   "cell_type": "code",
   "execution_count": 68,
   "id": "653f012b",
   "metadata": {},
   "outputs": [
    {
     "data": {
      "text/html": [
       "<div>\n",
       "<style scoped>\n",
       "    .dataframe tbody tr th:only-of-type {\n",
       "        vertical-align: middle;\n",
       "    }\n",
       "\n",
       "    .dataframe tbody tr th {\n",
       "        vertical-align: top;\n",
       "    }\n",
       "\n",
       "    .dataframe thead th {\n",
       "        text-align: right;\n",
       "    }\n",
       "</style>\n",
       "<table border=\"1\" class=\"dataframe\">\n",
       "  <thead>\n",
       "    <tr style=\"text-align: right;\">\n",
       "      <th></th>\n",
       "      <th>userId</th>\n",
       "      <th>movieId</th>\n",
       "      <th>rating</th>\n",
       "    </tr>\n",
       "  </thead>\n",
       "  <tbody>\n",
       "    <tr>\n",
       "      <th>6350647</th>\n",
       "      <td>43590</td>\n",
       "      <td>4727</td>\n",
       "      <td>1</td>\n",
       "    </tr>\n",
       "    <tr>\n",
       "      <th>8057108</th>\n",
       "      <td>55493</td>\n",
       "      <td>195</td>\n",
       "      <td>1</td>\n",
       "    </tr>\n",
       "    <tr>\n",
       "      <th>5477593</th>\n",
       "      <td>37639</td>\n",
       "      <td>165</td>\n",
       "      <td>1</td>\n",
       "    </tr>\n",
       "    <tr>\n",
       "      <th>10771754</th>\n",
       "      <td>74466</td>\n",
       "      <td>37733</td>\n",
       "      <td>1</td>\n",
       "    </tr>\n",
       "    <tr>\n",
       "      <th>18180646</th>\n",
       "      <td>125777</td>\n",
       "      <td>4785</td>\n",
       "      <td>1</td>\n",
       "    </tr>\n",
       "  </tbody>\n",
       "</table>\n",
       "</div>"
      ],
      "text/plain": [
       "          userId  movieId  rating\n",
       "6350647    43590     4727       1\n",
       "8057108    55493      195       1\n",
       "5477593    37639      165       1\n",
       "10771754   74466    37733       1\n",
       "18180646  125777     4785       1"
      ]
     },
     "execution_count": 68,
     "metadata": {},
     "output_type": "execute_result"
    }
   ],
   "source": [
    "train_ratings.loc[:, 'rating'] = 1\n",
    "train_ratings.sample(5)"
   ]
  },
  {
   "cell_type": "code",
   "execution_count": 69,
   "id": "3be5609c",
   "metadata": {},
   "outputs": [
    {
     "data": {
      "text/plain": [
       "(5922192, 3)"
      ]
     },
     "execution_count": 69,
     "metadata": {},
     "output_type": "execute_result"
    }
   ],
   "source": [
    "train_ratings.shape"
   ]
  },
  {
   "cell_type": "code",
   "execution_count": 70,
   "id": "d9a16295",
   "metadata": {},
   "outputs": [],
   "source": [
    "from tqdm.notebook import tqdm"
   ]
  },
  {
   "cell_type": "code",
   "execution_count": 71,
   "id": "d992e29c",
   "metadata": {},
   "outputs": [],
   "source": [
    "# Get a list of all movie IDs\n",
    "all_movieIds = ratings['movieId'].unique()\n",
    "\n",
    "# Placeholders that will hold the training data\n",
    "users, items, labels = [], [], []\n",
    "\n",
    "# This is the set of items that each user has interaction with\n",
    "user_item_set = set(zip(train_ratings['userId'], train_ratings['movieId']))"
   ]
  },
  {
   "cell_type": "code",
   "execution_count": 72,
   "id": "ffc15fce",
   "metadata": {},
   "outputs": [
    {
     "data": {
      "text/plain": [
       "5922192"
      ]
     },
     "execution_count": 72,
     "metadata": {},
     "output_type": "execute_result"
    }
   ],
   "source": [
    "len(user_item_set)"
   ]
  },
  {
   "cell_type": "code",
   "execution_count": 73,
   "id": "be8b5bd8",
   "metadata": {},
   "outputs": [],
   "source": [
    "# 4:1 ratio of negative to positive samples\n",
    "num_negatives = 4\n",
    "\n",
    "for (u, i) in user_item_set:\n",
    "    users.append(u)\n",
    "    items.append(i)\n",
    "    labels.append(1) # items that the user has interacted with are positive\n",
    "    for _ in range(num_negatives):\n",
    "        # randomly select an item\n",
    "        negative_item = np.random.choice(all_movieIds) \n",
    "        # check that the user has not interacted with this item\n",
    "        while (u, negative_item) in user_item_set:\n",
    "            negative_item = np.random.choice(all_movieIds)\n",
    "        users.append(u)\n",
    "        items.append(negative_item)\n",
    "        labels.append(0) # items not interacted with are negative\n"
   ]
  },
  {
   "cell_type": "code",
   "execution_count": 75,
   "id": "f61f3a3f",
   "metadata": {},
   "outputs": [],
   "source": [
    "labels = np.array(labels)"
   ]
  },
  {
   "cell_type": "code",
   "execution_count": 76,
   "id": "732af1d9",
   "metadata": {},
   "outputs": [
    {
     "data": {
      "text/plain": [
       "array([1, 0, 0, ..., 0, 0, 0])"
      ]
     },
     "execution_count": 76,
     "metadata": {},
     "output_type": "execute_result"
    }
   ],
   "source": [
    "labels"
   ]
  },
  {
   "cell_type": "code",
   "execution_count": 77,
   "id": "30cd6558",
   "metadata": {},
   "outputs": [],
   "source": [
    "users=np.expand_dims(users, 1)"
   ]
  },
  {
   "cell_type": "code",
   "execution_count": 78,
   "id": "899f0b78",
   "metadata": {},
   "outputs": [
    {
     "data": {
      "text/plain": [
       "array([[108564],\n",
       "       [108564],\n",
       "       [108564],\n",
       "       [108564],\n",
       "       [108564]])"
      ]
     },
     "execution_count": 78,
     "metadata": {},
     "output_type": "execute_result"
    }
   ],
   "source": [
    "users[:5]"
   ]
  },
  {
   "cell_type": "code",
   "execution_count": 79,
   "id": "ba221435",
   "metadata": {},
   "outputs": [
    {
     "data": {
      "text/plain": [
       "138491"
      ]
     },
     "execution_count": 79,
     "metadata": {},
     "output_type": "execute_result"
    }
   ],
   "source": [
    "users.max()"
   ]
  },
  {
   "cell_type": "code",
   "execution_count": 81,
   "id": "eab5a6d6",
   "metadata": {},
   "outputs": [],
   "source": [
    "items=np.expand_dims(items, 1)"
   ]
  },
  {
   "cell_type": "code",
   "execution_count": 82,
   "id": "174849a2",
   "metadata": {},
   "outputs": [
    {
     "data": {
      "text/plain": [
       "131262"
      ]
     },
     "execution_count": 82,
     "metadata": {},
     "output_type": "execute_result"
    }
   ],
   "source": [
    "items.max()"
   ]
  },
  {
   "cell_type": "code",
   "execution_count": 83,
   "id": "89279b16",
   "metadata": {},
   "outputs": [
    {
     "data": {
      "text/plain": [
       "41547"
      ]
     },
     "execution_count": 83,
     "metadata": {},
     "output_type": "execute_result"
    }
   ],
   "source": [
    "len(np.unique(users))"
   ]
  },
  {
   "cell_type": "code",
   "execution_count": 84,
   "id": "de42c15b",
   "metadata": {},
   "outputs": [
    {
     "data": {
      "text/plain": [
       "(29610960, 1)"
      ]
     },
     "execution_count": 84,
     "metadata": {},
     "output_type": "execute_result"
    }
   ],
   "source": [
    "users.shape"
   ]
  },
  {
   "cell_type": "code",
   "execution_count": 85,
   "id": "fdf2ae8e",
   "metadata": {},
   "outputs": [
    {
     "data": {
      "text/plain": [
       "21420"
      ]
     },
     "execution_count": 85,
     "metadata": {},
     "output_type": "execute_result"
    }
   ],
   "source": [
    "len(np.unique(items))"
   ]
  },
  {
   "cell_type": "code",
   "execution_count": 93,
   "id": "604c2244",
   "metadata": {},
   "outputs": [
    {
     "data": {
      "text/plain": [
       "(29610960,)"
      ]
     },
     "execution_count": 93,
     "metadata": {},
     "output_type": "execute_result"
    }
   ],
   "source": [
    "labels.shape"
   ]
  },
  {
   "cell_type": "code",
   "execution_count": 86,
   "id": "6f299bca",
   "metadata": {},
   "outputs": [],
   "source": [
    "import tensorflow as tf\n",
    "import keras\n",
    "from tensorflow.keras import layers\n",
    "from keras.models import Sequential  #Sequential from keras.models\n",
    "from keras.layers import Dense "
   ]
  },
  {
   "cell_type": "code",
   "execution_count": 87,
   "id": "5da4c28e",
   "metadata": {},
   "outputs": [],
   "source": [
    "num_users=len(np.unique(users))\n",
    "num_items=len(np.unique(items))\n",
    "\n",
    "user_input = keras.Input(shape=(None,), name=\"user\") \n",
    "item_input = keras.Input(shape=(None,), name=\"item\") \n",
    "\n",
    "user_features = layers.Embedding(users.max()+1, 64)(user_input)\n",
    "item_features = layers.Embedding(items.max()+1, 64)(item_input)\n",
    "\n",
    "x = layers.concatenate([user_features, item_features])\n",
    "x = layers.Dense(units = 64, kernel_initializer = 'HeNormal', activation = 'relu')(x)\n",
    "x = layers.Dense(units = 16, kernel_initializer = 'HeNormal', activation = 'relu')(x)\n",
    "output=layers.Dense(units = 1, kernel_initializer = 'uniform', activation = 'sigmoid')(x)\n",
    "\n",
    "model = keras.Model(inputs=[user_input, item_input],outputs=output)"
   ]
  },
  {
   "cell_type": "code",
   "execution_count": 88,
   "id": "5030cd25",
   "metadata": {},
   "outputs": [
    {
     "name": "stdout",
     "output_type": "stream",
     "text": [
      "Model: \"model\"\n",
      "__________________________________________________________________________________________________\n",
      "Layer (type)                    Output Shape         Param #     Connected to                     \n",
      "==================================================================================================\n",
      "user (InputLayer)               [(None, None)]       0                                            \n",
      "__________________________________________________________________________________________________\n",
      "item (InputLayer)               [(None, None)]       0                                            \n",
      "__________________________________________________________________________________________________\n",
      "embedding (Embedding)           (None, None, 64)     8863488     user[0][0]                       \n",
      "__________________________________________________________________________________________________\n",
      "embedding_1 (Embedding)         (None, None, 64)     8400832     item[0][0]                       \n",
      "__________________________________________________________________________________________________\n",
      "concatenate (Concatenate)       (None, None, 128)    0           embedding[0][0]                  \n",
      "                                                                 embedding_1[0][0]                \n",
      "__________________________________________________________________________________________________\n",
      "dense (Dense)                   (None, None, 64)     8256        concatenate[0][0]                \n",
      "__________________________________________________________________________________________________\n",
      "dense_1 (Dense)                 (None, None, 16)     1040        dense[0][0]                      \n",
      "__________________________________________________________________________________________________\n",
      "dense_2 (Dense)                 (None, None, 1)      17          dense_1[0][0]                    \n",
      "==================================================================================================\n",
      "Total params: 17,273,633\n",
      "Trainable params: 17,273,633\n",
      "Non-trainable params: 0\n",
      "__________________________________________________________________________________________________\n"
     ]
    }
   ],
   "source": [
    "model.summary()"
   ]
  },
  {
   "cell_type": "code",
   "execution_count": 89,
   "id": "e6a17876",
   "metadata": {},
   "outputs": [],
   "source": [
    "model.compile(optimizer = 'adam', loss = 'binary_crossentropy', metrics = ['accuracy'])\n"
   ]
  },
  {
   "cell_type": "code",
   "execution_count": 91,
   "id": "940cd973",
   "metadata": {},
   "outputs": [
    {
     "name": "stdout",
     "output_type": "stream",
     "text": [
      "Epoch 1/4\n",
      "2962/2962 [==============================] - 545s 183ms/step - loss: 0.2027 - accuracy: 0.9115\n",
      "Epoch 2/4\n",
      "2962/2962 [==============================] - 549s 185ms/step - loss: 0.1672 - accuracy: 0.9278\n",
      "Epoch 3/4\n",
      "2962/2962 [==============================] - 540s 182ms/step - loss: 0.1531 - accuracy: 0.9343\n",
      "Epoch 4/4\n",
      "2962/2962 [==============================] - 539s 182ms/step - loss: 0.1432 - accuracy: 0.9389\n"
     ]
    },
    {
     "data": {
      "text/plain": [
       "<keras.callbacks.History at 0x251085bad30>"
      ]
     },
     "execution_count": 91,
     "metadata": {},
     "output_type": "execute_result"
    }
   ],
   "source": [
    "model.fit(\n",
    "    {\"user\": users, \"item\": items},\n",
    "    labels,\n",
    "    epochs=4,\n",
    "    batch_size=10000,\n",
    ")"
   ]
  },
  {
   "cell_type": "code",
   "execution_count": 92,
   "id": "22152b98",
   "metadata": {},
   "outputs": [
    {
     "data": {
      "text/plain": [
       "Index(['userId', 'movieId', 'rating'], dtype='object')"
      ]
     },
     "execution_count": 92,
     "metadata": {},
     "output_type": "execute_result"
    }
   ],
   "source": [
    "test_ratings.columns"
   ]
  },
  {
   "cell_type": "code",
   "execution_count": 94,
   "id": "cc0af676",
   "metadata": {},
   "outputs": [],
   "source": [
    "test_user=np.array(test_ratings['userId'])"
   ]
  },
  {
   "cell_type": "code",
   "execution_count": 95,
   "id": "be01095b",
   "metadata": {},
   "outputs": [],
   "source": [
    "test_user=np.expand_dims(test_user, 1)"
   ]
  },
  {
   "cell_type": "code",
   "execution_count": 96,
   "id": "e78389cf",
   "metadata": {},
   "outputs": [
    {
     "data": {
      "text/plain": [
       "array([[     8],\n",
       "       [    14],\n",
       "       [    20],\n",
       "       ...,\n",
       "       [138479],\n",
       "       [138489],\n",
       "       [138491]], dtype=int64)"
      ]
     },
     "execution_count": 96,
     "metadata": {},
     "output_type": "execute_result"
    }
   ],
   "source": [
    "test_user"
   ]
  },
  {
   "cell_type": "code",
   "execution_count": 97,
   "id": "3fe39979",
   "metadata": {},
   "outputs": [
    {
     "data": {
      "text/plain": [
       "array([[  454],\n",
       "       [46062],\n",
       "       [ 1994],\n",
       "       ...,\n",
       "       [  480],\n",
       "       [ 2858],\n",
       "       [ 8961]], dtype=int64)"
      ]
     },
     "execution_count": 97,
     "metadata": {},
     "output_type": "execute_result"
    }
   ],
   "source": [
    "test_movie=np.array(test_ratings['movieId'])\n",
    "test_movie=np.expand_dims(test_movie,1)\n",
    "test_movie"
   ]
  },
  {
   "cell_type": "code",
   "execution_count": 98,
   "id": "4a6f8a99",
   "metadata": {},
   "outputs": [],
   "source": [
    "pred=model.predict(x=[test_user,test_movie], batch_size=128)"
   ]
  },
  {
   "cell_type": "code",
   "execution_count": 99,
   "id": "5a146272",
   "metadata": {},
   "outputs": [],
   "source": [
    "pred = np.where(pred < 0.5, 0, 1)"
   ]
  },
  {
   "cell_type": "code",
   "execution_count": 100,
   "id": "d5f40922",
   "metadata": {},
   "outputs": [],
   "source": [
    "pred=pred.reshape(len(pred))"
   ]
  },
  {
   "cell_type": "code",
   "execution_count": 101,
   "id": "a84b8263",
   "metadata": {},
   "outputs": [
    {
     "data": {
      "text/plain": [
       "array([1, 0, 1, ..., 1, 1, 1])"
      ]
     },
     "execution_count": 101,
     "metadata": {},
     "output_type": "execute_result"
    }
   ],
   "source": [
    "pred"
   ]
  },
  {
   "cell_type": "code",
   "execution_count": 102,
   "id": "25cbffe4",
   "metadata": {},
   "outputs": [],
   "source": [
    "unique, counts = np.unique(pred, return_counts=True)"
   ]
  },
  {
   "cell_type": "code",
   "execution_count": 103,
   "id": "ee17970f",
   "metadata": {},
   "outputs": [],
   "source": [
    "c = dict(zip(unique, counts))"
   ]
  },
  {
   "cell_type": "markdown",
   "id": "5897eb20",
   "metadata": {},
   "source": [
    "## 73.2% recall rate(leave one out as test data)"
   ]
  },
  {
   "cell_type": "code",
   "execution_count": 104,
   "id": "3535c6e1",
   "metadata": {},
   "outputs": [],
   "source": [
    "ratio =c[1]/(c[0]+c[1])"
   ]
  },
  {
   "cell_type": "code",
   "execution_count": 105,
   "id": "670c601d",
   "metadata": {},
   "outputs": [
    {
     "data": {
      "text/plain": [
       "0.7322002060231473"
      ]
     },
     "execution_count": 105,
     "metadata": {},
     "output_type": "execute_result"
    }
   ],
   "source": [
    "ratio"
   ]
  },
  {
   "cell_type": "code",
   "execution_count": 106,
   "id": "9b656a2f",
   "metadata": {},
   "outputs": [],
   "source": [
    "# Get a list of all movie IDs\n",
    "all_movieIds = ratings['movieId'].unique()\n",
    "\n",
    "# Placeholders that will hold the training data\n",
    "users1, items1, labels1 = [], [], []\n",
    "\n",
    "# This is the set of items that each user has interaction with\n",
    "user_item_set = set(zip(test_ratings['userId'], test_ratings['movieId']))"
   ]
  },
  {
   "cell_type": "code",
   "execution_count": 107,
   "id": "349386b4",
   "metadata": {},
   "outputs": [],
   "source": [
    "# 4:1 ratio of negative to positive samples\n",
    "num_negatives = 4\n",
    "\n",
    "for (u, i) in user_item_set:\n",
    "    users1.append(u)\n",
    "    items1.append(i)\n",
    "    labels1.append(1) # items that the user has interacted with are positive\n",
    "    for _ in range(num_negatives):\n",
    "        # randomly select an item\n",
    "        negative_item = np.random.choice(all_movieIds) \n",
    "        # check that the user has not interacted with this item\n",
    "        while (u, negative_item) in user_item_set:\n",
    "            negative_item = np.random.choice(all_movieIds)\n",
    "        users1.append(u)\n",
    "        items1.append(negative_item)\n",
    "        labels1.append(0) # items not interacted with are negative"
   ]
  },
  {
   "cell_type": "code",
   "execution_count": 108,
   "id": "108dd501",
   "metadata": {},
   "outputs": [],
   "source": [
    "users1=np.array(users1)\n",
    "users1=np.expand_dims(users1,1)\n",
    "items1=np.array(items1)\n",
    "items1=np.expand_dims(items1,1)\n",
    "labels1=np.array(labels1)\n"
   ]
  },
  {
   "cell_type": "code",
   "execution_count": 109,
   "id": "a68b8cb3",
   "metadata": {},
   "outputs": [
    {
     "name": "stdout",
     "output_type": "stream",
     "text": [
      "165030 165030 165030\n"
     ]
    }
   ],
   "source": [
    "print(len(users1),len(items1),len(labels1))"
   ]
  },
  {
   "cell_type": "code",
   "execution_count": 110,
   "id": "8c56e634",
   "metadata": {},
   "outputs": [
    {
     "data": {
      "text/plain": [
       "165030"
      ]
     },
     "execution_count": 110,
     "metadata": {},
     "output_type": "execute_result"
    }
   ],
   "source": [
    "len(users1)"
   ]
  },
  {
   "cell_type": "code",
   "execution_count": 111,
   "id": "0d313a9c",
   "metadata": {},
   "outputs": [
    {
     "data": {
      "text/plain": [
       "165030"
      ]
     },
     "execution_count": 111,
     "metadata": {},
     "output_type": "execute_result"
    }
   ],
   "source": [
    "len(items1)"
   ]
  },
  {
   "cell_type": "code",
   "execution_count": 112,
   "id": "0958369f",
   "metadata": {},
   "outputs": [
    {
     "data": {
      "text/plain": [
       "165030"
      ]
     },
     "execution_count": 112,
     "metadata": {},
     "output_type": "execute_result"
    }
   ],
   "source": [
    "len(labels1)"
   ]
  },
  {
   "cell_type": "code",
   "execution_count": 113,
   "id": "f5ba2c7b",
   "metadata": {},
   "outputs": [],
   "source": [
    "pred1=model.predict(x=[users1,items1], batch_size=128)"
   ]
  },
  {
   "cell_type": "code",
   "execution_count": 116,
   "id": "9e97cdd5",
   "metadata": {},
   "outputs": [],
   "source": [
    "pred1 = np.where(pred1 < 0.5, 0, 1)"
   ]
  },
  {
   "cell_type": "code",
   "execution_count": 117,
   "id": "7d71981c",
   "metadata": {},
   "outputs": [],
   "source": [
    "pred1 = pred1.reshape(len(pred1))"
   ]
  },
  {
   "cell_type": "code",
   "execution_count": 119,
   "id": "9f489d40",
   "metadata": {},
   "outputs": [
    {
     "name": "stdout",
     "output_type": "stream",
     "text": [
      "              precision    recall  f1-score   support\n",
      "\n",
      "           0       0.93      0.96      0.95    132024\n",
      "           1       0.81      0.73      0.77     33006\n",
      "\n",
      "    accuracy                           0.91    165030\n",
      "   macro avg       0.87      0.84      0.86    165030\n",
      "weighted avg       0.91      0.91      0.91    165030\n",
      "\n"
     ]
    }
   ],
   "source": [
    "from sklearn.metrics import classification_report\n",
    "print(classification_report(labels1, pred1))"
   ]
  },
  {
   "cell_type": "code",
   "execution_count": 348,
   "id": "364ab43e",
   "metadata": {},
   "outputs": [],
   "source": [
    "dis = abs(pred1-labels1)"
   ]
  },
  {
   "cell_type": "code",
   "execution_count": 349,
   "id": "926c243a",
   "metadata": {},
   "outputs": [],
   "source": [
    "unique, counts = np.unique(dis, return_counts=True)\n",
    "c = dict(zip(unique, counts))"
   ]
  },
  {
   "cell_type": "markdown",
   "id": "e1b78889",
   "metadata": {},
   "source": [
    "## Accuracy is 91.26%(test data with 20% positive and 80% negative data)\n",
    "## The negative data maybe slightly leaked, they are trained during process, need find a way to resplit train-test part. But the results is good"
   ]
  },
  {
   "cell_type": "code",
   "execution_count": 350,
   "id": "4da03c10",
   "metadata": {},
   "outputs": [
    {
     "data": {
      "text/plain": [
       "0.9126864766525167"
      ]
     },
     "execution_count": 350,
     "metadata": {},
     "output_type": "execute_result"
    }
   ],
   "source": [
    "ratio =c[0]/(c[0]+c[1])\n",
    "ratio"
   ]
  },
  {
   "cell_type": "markdown",
   "id": "ad72e678",
   "metadata": {},
   "source": [
    "## Save and load model"
   ]
  },
  {
   "cell_type": "code",
   "execution_count": 351,
   "id": "3d1fe1ef",
   "metadata": {},
   "outputs": [],
   "source": [
    "from keras.models import load_model\n",
    "\n",
    "model.save('my_model.h5')  # creates a HDF5 file 'my_model.h5'\n",
    "#del model  # deletes the existing model\n",
    "\n",
    "# returns a compiled model\n",
    "# identical to the previous one\n",
    "model1 = load_model('my_model.h5')"
   ]
  },
  {
   "cell_type": "code",
   "execution_count": 352,
   "id": "397d6abc",
   "metadata": {},
   "outputs": [],
   "source": [
    "pred2=model1.predict(x=[users1,items1], batch_size=128)"
   ]
  },
  {
   "cell_type": "code",
   "execution_count": 354,
   "id": "7503b07b",
   "metadata": {},
   "outputs": [],
   "source": [
    "pred2= np.where(pred2 < 0.5, 0, 1)"
   ]
  },
  {
   "cell_type": "code",
   "execution_count": 356,
   "id": "27fcc22b",
   "metadata": {},
   "outputs": [],
   "source": [
    "pred2 = pred2.reshape(len(pred1))"
   ]
  },
  {
   "cell_type": "code",
   "execution_count": 357,
   "id": "7b3de3c6",
   "metadata": {},
   "outputs": [],
   "source": [
    "dis = abs(pred2-labels1)"
   ]
  },
  {
   "cell_type": "code",
   "execution_count": 358,
   "id": "86bdb7df",
   "metadata": {},
   "outputs": [],
   "source": [
    "unique, counts = np.unique(dis, return_counts=True)\n",
    "c = dict(zip(unique, counts))"
   ]
  },
  {
   "cell_type": "code",
   "execution_count": 359,
   "id": "0c275d57",
   "metadata": {},
   "outputs": [
    {
     "data": {
      "text/plain": [
       "0.9126864766525167"
      ]
     },
     "execution_count": 359,
     "metadata": {},
     "output_type": "execute_result"
    }
   ],
   "source": [
    "ratio =c[0]/(c[0]+c[1])\n",
    "ratio"
   ]
  },
  {
   "cell_type": "markdown",
   "id": "ef526c66",
   "metadata": {},
   "source": [
    "## for some userId recommand movie"
   ]
  },
  {
   "cell_type": "code",
   "execution_count": 425,
   "id": "82dd9878",
   "metadata": {},
   "outputs": [],
   "source": [
    "def model_reco(user, n):\n",
    "    model1 = load_model('my_model.h5')\n",
    "    all_movieIds = ratings['movieId'].unique()\n",
    "    movie_watched= ratings[ratings['userId']==user]['movieId'].unique()\n",
    "    all_movieIds = all_movieIds[np.isin(all_movieIds, movie_watched, invert=True)]\n",
    "    all_movieIds=np.expand_dims(all_movieIds,1)\n",
    "    num_movies=len(all_movieIds)\n",
    "    user_expand = np.full((num_movies,1),user)\n",
    "    pred=model1.predict(x=[user_expand,all_movieIds], batch_size=128)\n",
    "    df = pd.DataFrame([all_movieIds.reshape(num_movies),pred.reshape(num_movies)]).T\n",
    "    df = df.rename(columns={0 : 'movie', 1: 'pred'})\n",
    "    df = df.sort_values(['pred'],ascending=False)\n",
    "\n",
    "    return df[:n]"
   ]
  },
  {
   "cell_type": "code",
   "execution_count": 429,
   "id": "1b36fbc8",
   "metadata": {},
   "outputs": [
    {
     "data": {
      "text/html": [
       "<div>\n",
       "<style scoped>\n",
       "    .dataframe tbody tr th:only-of-type {\n",
       "        vertical-align: middle;\n",
       "    }\n",
       "\n",
       "    .dataframe tbody tr th {\n",
       "        vertical-align: top;\n",
       "    }\n",
       "\n",
       "    .dataframe thead th {\n",
       "        text-align: right;\n",
       "    }\n",
       "</style>\n",
       "<table border=\"1\" class=\"dataframe\">\n",
       "  <thead>\n",
       "    <tr style=\"text-align: right;\">\n",
       "      <th></th>\n",
       "      <th>movie</th>\n",
       "      <th>pred</th>\n",
       "    </tr>\n",
       "  </thead>\n",
       "  <tbody>\n",
       "    <tr>\n",
       "      <th>210</th>\n",
       "      <td>2959.0</td>\n",
       "      <td>0.998357</td>\n",
       "    </tr>\n",
       "    <tr>\n",
       "      <th>925</th>\n",
       "      <td>3996.0</td>\n",
       "      <td>0.997410</td>\n",
       "    </tr>\n",
       "    <tr>\n",
       "      <th>250</th>\n",
       "      <td>4226.0</td>\n",
       "      <td>0.997332</td>\n",
       "    </tr>\n",
       "    <tr>\n",
       "      <th>208</th>\n",
       "      <td>2858.0</td>\n",
       "      <td>0.996961</td>\n",
       "    </tr>\n",
       "    <tr>\n",
       "      <th>227</th>\n",
       "      <td>3578.0</td>\n",
       "      <td>0.995954</td>\n",
       "    </tr>\n",
       "    <tr>\n",
       "      <th>40</th>\n",
       "      <td>260.0</td>\n",
       "      <td>0.994169</td>\n",
       "    </tr>\n",
       "    <tr>\n",
       "      <th>1095</th>\n",
       "      <td>2502.0</td>\n",
       "      <td>0.993787</td>\n",
       "    </tr>\n",
       "    <tr>\n",
       "      <th>203</th>\n",
       "      <td>2762.0</td>\n",
       "      <td>0.993062</td>\n",
       "    </tr>\n",
       "    <tr>\n",
       "      <th>272</th>\n",
       "      <td>4973.0</td>\n",
       "      <td>0.991718</td>\n",
       "    </tr>\n",
       "    <tr>\n",
       "      <th>636</th>\n",
       "      <td>3751.0</td>\n",
       "      <td>0.991525</td>\n",
       "    </tr>\n",
       "    <tr>\n",
       "      <th>184</th>\n",
       "      <td>2355.0</td>\n",
       "      <td>0.991269</td>\n",
       "    </tr>\n",
       "    <tr>\n",
       "      <th>73</th>\n",
       "      <td>1196.0</td>\n",
       "      <td>0.991093</td>\n",
       "    </tr>\n",
       "    <tr>\n",
       "      <th>903</th>\n",
       "      <td>2329.0</td>\n",
       "      <td>0.991088</td>\n",
       "    </tr>\n",
       "    <tr>\n",
       "      <th>290</th>\n",
       "      <td>5445.0</td>\n",
       "      <td>0.991013</td>\n",
       "    </tr>\n",
       "    <tr>\n",
       "      <th>136</th>\n",
       "      <td>1197.0</td>\n",
       "      <td>0.990814</td>\n",
       "    </tr>\n",
       "    <tr>\n",
       "      <th>285</th>\n",
       "      <td>5349.0</td>\n",
       "      <td>0.990305</td>\n",
       "    </tr>\n",
       "    <tr>\n",
       "      <th>169</th>\n",
       "      <td>2028.0</td>\n",
       "      <td>0.989918</td>\n",
       "    </tr>\n",
       "    <tr>\n",
       "      <th>1200</th>\n",
       "      <td>3977.0</td>\n",
       "      <td>0.989831</td>\n",
       "    </tr>\n",
       "    <tr>\n",
       "      <th>1109</th>\n",
       "      <td>2710.0</td>\n",
       "      <td>0.987982</td>\n",
       "    </tr>\n",
       "    <tr>\n",
       "      <th>608</th>\n",
       "      <td>2394.0</td>\n",
       "      <td>0.987897</td>\n",
       "    </tr>\n",
       "    <tr>\n",
       "      <th>1174</th>\n",
       "      <td>3623.0</td>\n",
       "      <td>0.987487</td>\n",
       "    </tr>\n",
       "    <tr>\n",
       "      <th>271</th>\n",
       "      <td>4896.0</td>\n",
       "      <td>0.987214</td>\n",
       "    </tr>\n",
       "    <tr>\n",
       "      <th>917</th>\n",
       "      <td>3052.0</td>\n",
       "      <td>0.987101</td>\n",
       "    </tr>\n",
       "    <tr>\n",
       "      <th>1104</th>\n",
       "      <td>2692.0</td>\n",
       "      <td>0.986271</td>\n",
       "    </tr>\n",
       "    <tr>\n",
       "      <th>1164</th>\n",
       "      <td>3510.0</td>\n",
       "      <td>0.985755</td>\n",
       "    </tr>\n",
       "    <tr>\n",
       "      <th>627</th>\n",
       "      <td>3175.0</td>\n",
       "      <td>0.985413</td>\n",
       "    </tr>\n",
       "    <tr>\n",
       "      <th>72</th>\n",
       "      <td>1136.0</td>\n",
       "      <td>0.983333</td>\n",
       "    </tr>\n",
       "    <tr>\n",
       "      <th>71</th>\n",
       "      <td>1097.0</td>\n",
       "      <td>0.982989</td>\n",
       "    </tr>\n",
       "    <tr>\n",
       "      <th>1251</th>\n",
       "      <td>5418.0</td>\n",
       "      <td>0.982972</td>\n",
       "    </tr>\n",
       "    <tr>\n",
       "      <th>75</th>\n",
       "      <td>1210.0</td>\n",
       "      <td>0.982830</td>\n",
       "    </tr>\n",
       "    <tr>\n",
       "      <th>239</th>\n",
       "      <td>3897.0</td>\n",
       "      <td>0.982293</td>\n",
       "    </tr>\n",
       "    <tr>\n",
       "      <th>143</th>\n",
       "      <td>1270.0</td>\n",
       "      <td>0.982046</td>\n",
       "    </tr>\n",
       "    <tr>\n",
       "      <th>43</th>\n",
       "      <td>318.0</td>\n",
       "      <td>0.981783</td>\n",
       "    </tr>\n",
       "    <tr>\n",
       "      <th>195</th>\n",
       "      <td>2683.0</td>\n",
       "      <td>0.981690</td>\n",
       "    </tr>\n",
       "    <tr>\n",
       "      <th>295</th>\n",
       "      <td>5816.0</td>\n",
       "      <td>0.981345</td>\n",
       "    </tr>\n",
       "    <tr>\n",
       "      <th>731</th>\n",
       "      <td>2997.0</td>\n",
       "      <td>0.981127</td>\n",
       "    </tr>\n",
       "    <tr>\n",
       "      <th>202</th>\n",
       "      <td>2761.0</td>\n",
       "      <td>0.981038</td>\n",
       "    </tr>\n",
       "    <tr>\n",
       "      <th>153</th>\n",
       "      <td>1653.0</td>\n",
       "      <td>0.980719</td>\n",
       "    </tr>\n",
       "    <tr>\n",
       "      <th>74</th>\n",
       "      <td>1198.0</td>\n",
       "      <td>0.980661</td>\n",
       "    </tr>\n",
       "    <tr>\n",
       "      <th>1106</th>\n",
       "      <td>2700.0</td>\n",
       "      <td>0.980002</td>\n",
       "    </tr>\n",
       "    <tr>\n",
       "      <th>927</th>\n",
       "      <td>4011.0</td>\n",
       "      <td>0.979993</td>\n",
       "    </tr>\n",
       "    <tr>\n",
       "      <th>596</th>\n",
       "      <td>2081.0</td>\n",
       "      <td>0.979910</td>\n",
       "    </tr>\n",
       "    <tr>\n",
       "      <th>234</th>\n",
       "      <td>3753.0</td>\n",
       "      <td>0.979198</td>\n",
       "    </tr>\n",
       "    <tr>\n",
       "      <th>1228</th>\n",
       "      <td>4308.0</td>\n",
       "      <td>0.978502</td>\n",
       "    </tr>\n",
       "    <tr>\n",
       "      <th>567</th>\n",
       "      <td>1148.0</td>\n",
       "      <td>0.978444</td>\n",
       "    </tr>\n",
       "    <tr>\n",
       "      <th>639</th>\n",
       "      <td>4022.0</td>\n",
       "      <td>0.978369</td>\n",
       "    </tr>\n",
       "    <tr>\n",
       "      <th>78</th>\n",
       "      <td>1.0</td>\n",
       "      <td>0.978046</td>\n",
       "    </tr>\n",
       "    <tr>\n",
       "      <th>197</th>\n",
       "      <td>2706.0</td>\n",
       "      <td>0.975990</td>\n",
       "    </tr>\n",
       "    <tr>\n",
       "      <th>705</th>\n",
       "      <td>223.0</td>\n",
       "      <td>0.975853</td>\n",
       "    </tr>\n",
       "    <tr>\n",
       "      <th>966</th>\n",
       "      <td>1704.0</td>\n",
       "      <td>0.975610</td>\n",
       "    </tr>\n",
       "  </tbody>\n",
       "</table>\n",
       "</div>"
      ],
      "text/plain": [
       "       movie      pred\n",
       "210   2959.0  0.998357\n",
       "925   3996.0  0.997410\n",
       "250   4226.0  0.997332\n",
       "208   2858.0  0.996961\n",
       "227   3578.0  0.995954\n",
       "40     260.0  0.994169\n",
       "1095  2502.0  0.993787\n",
       "203   2762.0  0.993062\n",
       "272   4973.0  0.991718\n",
       "636   3751.0  0.991525\n",
       "184   2355.0  0.991269\n",
       "73    1196.0  0.991093\n",
       "903   2329.0  0.991088\n",
       "290   5445.0  0.991013\n",
       "136   1197.0  0.990814\n",
       "285   5349.0  0.990305\n",
       "169   2028.0  0.989918\n",
       "1200  3977.0  0.989831\n",
       "1109  2710.0  0.987982\n",
       "608   2394.0  0.987897\n",
       "1174  3623.0  0.987487\n",
       "271   4896.0  0.987214\n",
       "917   3052.0  0.987101\n",
       "1104  2692.0  0.986271\n",
       "1164  3510.0  0.985755\n",
       "627   3175.0  0.985413\n",
       "72    1136.0  0.983333\n",
       "71    1097.0  0.982989\n",
       "1251  5418.0  0.982972\n",
       "75    1210.0  0.982830\n",
       "239   3897.0  0.982293\n",
       "143   1270.0  0.982046\n",
       "43     318.0  0.981783\n",
       "195   2683.0  0.981690\n",
       "295   5816.0  0.981345\n",
       "731   2997.0  0.981127\n",
       "202   2761.0  0.981038\n",
       "153   1653.0  0.980719\n",
       "74    1198.0  0.980661\n",
       "1106  2700.0  0.980002\n",
       "927   4011.0  0.979993\n",
       "596   2081.0  0.979910\n",
       "234   3753.0  0.979198\n",
       "1228  4308.0  0.978502\n",
       "567   1148.0  0.978444\n",
       "639   4022.0  0.978369\n",
       "78       1.0  0.978046\n",
       "197   2706.0  0.975990\n",
       "705    223.0  0.975853\n",
       "966   1704.0  0.975610"
      ]
     },
     "execution_count": 429,
     "metadata": {},
     "output_type": "execute_result"
    }
   ],
   "source": [
    "model_reco(138478,50)"
   ]
  },
  {
   "cell_type": "code",
   "execution_count": 427,
   "id": "85d58a5b",
   "metadata": {},
   "outputs": [
    {
     "data": {
      "text/plain": [
       "array([  1,   3,   5,   6,   7,  17,  32,  34,  36,  95, 104, 110, 208,\n",
       "       231, 260, 344, 356, 364, 376, 380, 480, 494, 527, 585, 589, 590,\n",
       "       595, 608, 648, 653, 733, 736, 780, 784, 786, 788], dtype=int64)"
      ]
     },
     "execution_count": 427,
     "metadata": {},
     "output_type": "execute_result"
    }
   ],
   "source": [
    "movie_watched= ratings[ratings['userId']==12]['movieId'].unique()\n",
    "movie_watched"
   ]
  }
 ],
 "metadata": {
  "kernelspec": {
   "display_name": "Python 3",
   "language": "python",
   "name": "python3"
  },
  "language_info": {
   "codemirror_mode": {
    "name": "ipython",
    "version": 3
   },
   "file_extension": ".py",
   "mimetype": "text/x-python",
   "name": "python",
   "nbconvert_exporter": "python",
   "pygments_lexer": "ipython3",
   "version": "3.8.8"
  }
 },
 "nbformat": 4,
 "nbformat_minor": 5
}
