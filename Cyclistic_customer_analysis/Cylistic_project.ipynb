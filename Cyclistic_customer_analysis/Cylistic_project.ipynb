{
 "cells": [
  {
   "cell_type": "code",
   "execution_count": 1,
   "id": "f72bb4e3",
   "metadata": {},
   "outputs": [],
   "source": [
    "import pandas as pd\n",
    "import numpy as np\n",
    "from matplotlib import pyplot as plt"
   ]
  },
  {
   "cell_type": "code",
   "execution_count": 3,
   "id": "f35c3747",
   "metadata": {},
   "outputs": [
    {
     "data": {
      "text/plain": [
       "<bound method DataFrame.info of                  ride_id  rideable_type           started_at  \\\n",
       "0       99103BB87CC6C1BB  electric_bike  2021-08-10 17:15:49   \n",
       "1       EAFCCCFB0A3FC5A1  electric_bike  2021-08-10 17:23:14   \n",
       "2       9EF4F46C57AD234D  electric_bike  2021-08-21 02:34:23   \n",
       "3       5834D3208BFAF1DA  electric_bike  2021-08-21 06:52:55   \n",
       "4       CD825CB87ED1D096  electric_bike  2021-08-19 11:55:29   \n",
       "...                  ...            ...                  ...   \n",
       "804347  5E5C9CD681E0419C   classic_bike  2021-08-07 18:07:43   \n",
       "804348  96FB57CF4AA456F6  electric_bike  2021-08-09 08:49:31   \n",
       "804349  226A0910DCCE904C   classic_bike  2021-08-12 16:55:57   \n",
       "804350  1A97D27AE23DE1E7   classic_bike  2021-08-08 22:47:43   \n",
       "804351  BBC36E4AA3652361  electric_bike  2021-08-27 18:53:53   \n",
       "\n",
       "                   ended_at        start_station_name start_station_id  \\\n",
       "0       2021-08-10 17:22:44                       NaN              NaN   \n",
       "1       2021-08-10 17:39:24                       NaN              NaN   \n",
       "2       2021-08-21 02:50:36                       NaN              NaN   \n",
       "3       2021-08-21 07:08:13                       NaN              NaN   \n",
       "4       2021-08-19 12:04:11                       NaN              NaN   \n",
       "...                     ...                       ...              ...   \n",
       "804347  2021-08-07 18:21:21  Wells St & Evergreen Ave     TA1308000049   \n",
       "804348  2021-08-09 09:03:51    Broadway & Sheridan Rd            13323   \n",
       "804349  2021-08-12 17:15:10    Dearborn St & Adams St     TA1305000005   \n",
       "804350  2021-08-08 23:08:12    Broadway & Sheridan Rd            13323   \n",
       "804351  2021-08-27 19:02:16   Paulina Ave & North Ave     TA1305000037   \n",
       "\n",
       "                   end_station_name end_station_id  start_lat  start_lng  \\\n",
       "0                               NaN            NaN  41.770000 -87.680000   \n",
       "1                               NaN            NaN  41.770000 -87.680000   \n",
       "2                               NaN            NaN  41.950000 -87.650000   \n",
       "3                               NaN            NaN  41.970000 -87.670000   \n",
       "4                               NaN            NaN  41.790000 -87.600000   \n",
       "...                             ...            ...        ...        ...   \n",
       "804347  Lincoln Ave & Diversey Pkwy   TA1307000064  41.906724 -87.634830   \n",
       "804348       Clark St & Lincoln Ave          13179  41.952709 -87.649940   \n",
       "804349       Clark St & Lincoln Ave          13179  41.879356 -87.629791   \n",
       "804350      Clark St & Winnemac Ave   TA1309000035  41.952833 -87.649993   \n",
       "804351        Dayton St & North Ave          13058  41.909851 -87.669808   \n",
       "\n",
       "          end_lat    end_lng member_casual  \n",
       "0       41.770000 -87.680000        member  \n",
       "1       41.770000 -87.630000        member  \n",
       "2       41.970000 -87.660000        member  \n",
       "3       41.950000 -87.650000        member  \n",
       "4       41.770000 -87.620000        member  \n",
       "...           ...        ...           ...  \n",
       "804347  41.932225 -87.658617        member  \n",
       "804348  41.915973 -87.634762        member  \n",
       "804349  41.915689 -87.634600        member  \n",
       "804350  41.973348 -87.667855        casual  \n",
       "804351  41.910674 -87.649547        casual  \n",
       "\n",
       "[804352 rows x 13 columns]>"
      ]
     },
     "execution_count": 3,
     "metadata": {},
     "output_type": "execute_result"
    }
   ],
   "source": [
    "import os\n",
    "os.chdir('D:/resume_portfolio/cyclistic_google_case1/divvy_tripdata')\n",
    "m8_2021 = pd.read_csv('202108-divvy-tripdata.csv')\n",
    "m8_2021.info"
   ]
  },
  {
   "cell_type": "code",
   "execution_count": 4,
   "id": "bd3ac2b1",
   "metadata": {},
   "outputs": [
    {
     "data": {
      "text/plain": [
       "Index(['ride_id', 'rideable_type', 'started_at', 'ended_at',\n",
       "       'start_station_name', 'start_station_id', 'end_station_name',\n",
       "       'end_station_id', 'start_lat', 'start_lng', 'end_lat', 'end_lng',\n",
       "       'member_casual'],\n",
       "      dtype='object')"
      ]
     },
     "execution_count": 4,
     "metadata": {},
     "output_type": "execute_result"
    }
   ],
   "source": [
    "m8_2021.columns"
   ]
  },
  {
   "cell_type": "code",
   "execution_count": 5,
   "id": "a59095e2",
   "metadata": {},
   "outputs": [
    {
     "data": {
      "text/plain": [
       "(804352, 13)"
      ]
     },
     "execution_count": 5,
     "metadata": {},
     "output_type": "execute_result"
    }
   ],
   "source": [
    "m8_2021.shape"
   ]
  },
  {
   "cell_type": "code",
   "execution_count": 6,
   "id": "709f2e5f",
   "metadata": {},
   "outputs": [],
   "source": [
    "m7_2021 = pd.read_csv('202107-divvy-tripdata.csv')"
   ]
  },
  {
   "cell_type": "code",
   "execution_count": 7,
   "id": "08c754ee",
   "metadata": {},
   "outputs": [],
   "source": [
    "m6_2021 = pd.read_csv('202106-divvy-tripdata.csv')\n",
    "m5_2021 = pd.read_csv('202105-divvy-tripdata.csv')\n",
    "m4_2021 = pd.read_csv('202104-divvy-tripdata.csv')\n",
    "m3_2021 = pd.read_csv('202103-divvy-tripdata.csv')\n",
    "m2_2021 = pd.read_csv('202102-divvy-tripdata.csv')\n",
    "m1_2021 = pd.read_csv('202101-divvy-tripdata.csv')\n"
   ]
  },
  {
   "cell_type": "code",
   "execution_count": 8,
   "id": "40dd2f90",
   "metadata": {},
   "outputs": [],
   "source": [
    "m12_2020 = pd.read_csv('202012-divvy-tripdata.csv')\n",
    "m11_2020 = pd.read_csv('202011-divvy-tripdata.csv')\n",
    "m10_2020 = pd.read_csv('202010-divvy-tripdata.csv')\n",
    "m09_2020 = pd.read_csv('202009-divvy-tripdata.csv')"
   ]
  },
  {
   "cell_type": "code",
   "execution_count": 9,
   "id": "5dc21546",
   "metadata": {},
   "outputs": [],
   "source": [
    "data = pd.concat([m8_2021, m7_2021, m6_2021, m5_2021, m4_2021,m3_2021,m2_2021,m1_2021,\n",
    "                  m12_2020,m11_2020,m10_2020,m09_2020])"
   ]
  },
  {
   "cell_type": "code",
   "execution_count": 15,
   "id": "e36550ad",
   "metadata": {},
   "outputs": [
    {
     "data": {
      "text/plain": [
       "index                   int64\n",
       "ride_id                object\n",
       "rideable_type          object\n",
       "started_at             object\n",
       "ended_at               object\n",
       "start_station_name     object\n",
       "start_station_id       object\n",
       "end_station_name       object\n",
       "end_station_id         object\n",
       "start_lat             float64\n",
       "start_lng             float64\n",
       "end_lat               float64\n",
       "end_lng               float64\n",
       "member_casual          object\n",
       "dtype: object"
      ]
     },
     "execution_count": 15,
     "metadata": {},
     "output_type": "execute_result"
    }
   ],
   "source": [
    "data.dtypes"
   ]
  },
  {
   "cell_type": "code",
   "execution_count": 16,
   "id": "5e5cfee3",
   "metadata": {},
   "outputs": [
    {
     "data": {
      "text/html": [
       "<div>\n",
       "<style scoped>\n",
       "    .dataframe tbody tr th:only-of-type {\n",
       "        vertical-align: middle;\n",
       "    }\n",
       "\n",
       "    .dataframe tbody tr th {\n",
       "        vertical-align: top;\n",
       "    }\n",
       "\n",
       "    .dataframe thead th {\n",
       "        text-align: right;\n",
       "    }\n",
       "</style>\n",
       "<table border=\"1\" class=\"dataframe\">\n",
       "  <thead>\n",
       "    <tr style=\"text-align: right;\">\n",
       "      <th></th>\n",
       "      <th>index</th>\n",
       "      <th>ride_id</th>\n",
       "      <th>rideable_type</th>\n",
       "      <th>started_at</th>\n",
       "      <th>ended_at</th>\n",
       "      <th>start_station_name</th>\n",
       "      <th>start_station_id</th>\n",
       "      <th>end_station_name</th>\n",
       "      <th>end_station_id</th>\n",
       "      <th>start_lat</th>\n",
       "      <th>start_lng</th>\n",
       "      <th>end_lat</th>\n",
       "      <th>end_lng</th>\n",
       "      <th>member_casual</th>\n",
       "    </tr>\n",
       "  </thead>\n",
       "  <tbody>\n",
       "    <tr>\n",
       "      <th>0</th>\n",
       "      <td>0</td>\n",
       "      <td>99103BB87CC6C1BB</td>\n",
       "      <td>electric_bike</td>\n",
       "      <td>2021-08-10 17:15:49</td>\n",
       "      <td>2021-08-10 17:22:44</td>\n",
       "      <td>NaN</td>\n",
       "      <td>NaN</td>\n",
       "      <td>NaN</td>\n",
       "      <td>NaN</td>\n",
       "      <td>41.77</td>\n",
       "      <td>-87.68</td>\n",
       "      <td>41.77</td>\n",
       "      <td>-87.68</td>\n",
       "      <td>member</td>\n",
       "    </tr>\n",
       "    <tr>\n",
       "      <th>1</th>\n",
       "      <td>1</td>\n",
       "      <td>EAFCCCFB0A3FC5A1</td>\n",
       "      <td>electric_bike</td>\n",
       "      <td>2021-08-10 17:23:14</td>\n",
       "      <td>2021-08-10 17:39:24</td>\n",
       "      <td>NaN</td>\n",
       "      <td>NaN</td>\n",
       "      <td>NaN</td>\n",
       "      <td>NaN</td>\n",
       "      <td>41.77</td>\n",
       "      <td>-87.68</td>\n",
       "      <td>41.77</td>\n",
       "      <td>-87.63</td>\n",
       "      <td>member</td>\n",
       "    </tr>\n",
       "    <tr>\n",
       "      <th>2</th>\n",
       "      <td>2</td>\n",
       "      <td>9EF4F46C57AD234D</td>\n",
       "      <td>electric_bike</td>\n",
       "      <td>2021-08-21 02:34:23</td>\n",
       "      <td>2021-08-21 02:50:36</td>\n",
       "      <td>NaN</td>\n",
       "      <td>NaN</td>\n",
       "      <td>NaN</td>\n",
       "      <td>NaN</td>\n",
       "      <td>41.95</td>\n",
       "      <td>-87.65</td>\n",
       "      <td>41.97</td>\n",
       "      <td>-87.66</td>\n",
       "      <td>member</td>\n",
       "    </tr>\n",
       "    <tr>\n",
       "      <th>3</th>\n",
       "      <td>3</td>\n",
       "      <td>5834D3208BFAF1DA</td>\n",
       "      <td>electric_bike</td>\n",
       "      <td>2021-08-21 06:52:55</td>\n",
       "      <td>2021-08-21 07:08:13</td>\n",
       "      <td>NaN</td>\n",
       "      <td>NaN</td>\n",
       "      <td>NaN</td>\n",
       "      <td>NaN</td>\n",
       "      <td>41.97</td>\n",
       "      <td>-87.67</td>\n",
       "      <td>41.95</td>\n",
       "      <td>-87.65</td>\n",
       "      <td>member</td>\n",
       "    </tr>\n",
       "    <tr>\n",
       "      <th>4</th>\n",
       "      <td>4</td>\n",
       "      <td>CD825CB87ED1D096</td>\n",
       "      <td>electric_bike</td>\n",
       "      <td>2021-08-19 11:55:29</td>\n",
       "      <td>2021-08-19 12:04:11</td>\n",
       "      <td>NaN</td>\n",
       "      <td>NaN</td>\n",
       "      <td>NaN</td>\n",
       "      <td>NaN</td>\n",
       "      <td>41.79</td>\n",
       "      <td>-87.60</td>\n",
       "      <td>41.77</td>\n",
       "      <td>-87.62</td>\n",
       "      <td>member</td>\n",
       "    </tr>\n",
       "  </tbody>\n",
       "</table>\n",
       "</div>"
      ],
      "text/plain": [
       "   index           ride_id  rideable_type           started_at  \\\n",
       "0      0  99103BB87CC6C1BB  electric_bike  2021-08-10 17:15:49   \n",
       "1      1  EAFCCCFB0A3FC5A1  electric_bike  2021-08-10 17:23:14   \n",
       "2      2  9EF4F46C57AD234D  electric_bike  2021-08-21 02:34:23   \n",
       "3      3  5834D3208BFAF1DA  electric_bike  2021-08-21 06:52:55   \n",
       "4      4  CD825CB87ED1D096  electric_bike  2021-08-19 11:55:29   \n",
       "\n",
       "              ended_at start_station_name start_station_id end_station_name  \\\n",
       "0  2021-08-10 17:22:44                NaN              NaN              NaN   \n",
       "1  2021-08-10 17:39:24                NaN              NaN              NaN   \n",
       "2  2021-08-21 02:50:36                NaN              NaN              NaN   \n",
       "3  2021-08-21 07:08:13                NaN              NaN              NaN   \n",
       "4  2021-08-19 12:04:11                NaN              NaN              NaN   \n",
       "\n",
       "  end_station_id  start_lat  start_lng  end_lat  end_lng member_casual  \n",
       "0            NaN      41.77     -87.68    41.77   -87.68        member  \n",
       "1            NaN      41.77     -87.68    41.77   -87.63        member  \n",
       "2            NaN      41.95     -87.65    41.97   -87.66        member  \n",
       "3            NaN      41.97     -87.67    41.95   -87.65        member  \n",
       "4            NaN      41.79     -87.60    41.77   -87.62        member  "
      ]
     },
     "execution_count": 16,
     "metadata": {},
     "output_type": "execute_result"
    }
   ],
   "source": [
    "data.head()"
   ]
  },
  {
   "cell_type": "code",
   "execution_count": 19,
   "id": "a1823fcf",
   "metadata": {},
   "outputs": [
    {
     "data": {
      "text/plain": [
       "4912863"
      ]
     },
     "execution_count": 19,
     "metadata": {},
     "output_type": "execute_result"
    }
   ],
   "source": [
    "data['ride_id'].nunique()"
   ]
  },
  {
   "cell_type": "code",
   "execution_count": 21,
   "id": "a271acef",
   "metadata": {},
   "outputs": [
    {
     "data": {
      "text/html": [
       "<div>\n",
       "<style scoped>\n",
       "    .dataframe tbody tr th:only-of-type {\n",
       "        vertical-align: middle;\n",
       "    }\n",
       "\n",
       "    .dataframe tbody tr th {\n",
       "        vertical-align: top;\n",
       "    }\n",
       "\n",
       "    .dataframe thead th {\n",
       "        text-align: right;\n",
       "    }\n",
       "</style>\n",
       "<table border=\"1\" class=\"dataframe\">\n",
       "  <thead>\n",
       "    <tr style=\"text-align: right;\">\n",
       "      <th></th>\n",
       "      <th>rideable_type</th>\n",
       "      <th>started_at</th>\n",
       "      <th>ended_at</th>\n",
       "      <th>start_station_name</th>\n",
       "      <th>start_station_id</th>\n",
       "      <th>end_station_name</th>\n",
       "      <th>end_station_id</th>\n",
       "      <th>start_lat</th>\n",
       "      <th>start_lng</th>\n",
       "      <th>end_lat</th>\n",
       "      <th>end_lng</th>\n",
       "      <th>member_casual</th>\n",
       "    </tr>\n",
       "  </thead>\n",
       "  <tbody>\n",
       "    <tr>\n",
       "      <th>0</th>\n",
       "      <td>electric_bike</td>\n",
       "      <td>2021-08-10 17:15:49</td>\n",
       "      <td>2021-08-10 17:22:44</td>\n",
       "      <td>NaN</td>\n",
       "      <td>NaN</td>\n",
       "      <td>NaN</td>\n",
       "      <td>NaN</td>\n",
       "      <td>41.77</td>\n",
       "      <td>-87.68</td>\n",
       "      <td>41.77</td>\n",
       "      <td>-87.68</td>\n",
       "      <td>member</td>\n",
       "    </tr>\n",
       "    <tr>\n",
       "      <th>1</th>\n",
       "      <td>electric_bike</td>\n",
       "      <td>2021-08-10 17:23:14</td>\n",
       "      <td>2021-08-10 17:39:24</td>\n",
       "      <td>NaN</td>\n",
       "      <td>NaN</td>\n",
       "      <td>NaN</td>\n",
       "      <td>NaN</td>\n",
       "      <td>41.77</td>\n",
       "      <td>-87.68</td>\n",
       "      <td>41.77</td>\n",
       "      <td>-87.63</td>\n",
       "      <td>member</td>\n",
       "    </tr>\n",
       "    <tr>\n",
       "      <th>2</th>\n",
       "      <td>electric_bike</td>\n",
       "      <td>2021-08-21 02:34:23</td>\n",
       "      <td>2021-08-21 02:50:36</td>\n",
       "      <td>NaN</td>\n",
       "      <td>NaN</td>\n",
       "      <td>NaN</td>\n",
       "      <td>NaN</td>\n",
       "      <td>41.95</td>\n",
       "      <td>-87.65</td>\n",
       "      <td>41.97</td>\n",
       "      <td>-87.66</td>\n",
       "      <td>member</td>\n",
       "    </tr>\n",
       "    <tr>\n",
       "      <th>3</th>\n",
       "      <td>electric_bike</td>\n",
       "      <td>2021-08-21 06:52:55</td>\n",
       "      <td>2021-08-21 07:08:13</td>\n",
       "      <td>NaN</td>\n",
       "      <td>NaN</td>\n",
       "      <td>NaN</td>\n",
       "      <td>NaN</td>\n",
       "      <td>41.97</td>\n",
       "      <td>-87.67</td>\n",
       "      <td>41.95</td>\n",
       "      <td>-87.65</td>\n",
       "      <td>member</td>\n",
       "    </tr>\n",
       "    <tr>\n",
       "      <th>4</th>\n",
       "      <td>electric_bike</td>\n",
       "      <td>2021-08-19 11:55:29</td>\n",
       "      <td>2021-08-19 12:04:11</td>\n",
       "      <td>NaN</td>\n",
       "      <td>NaN</td>\n",
       "      <td>NaN</td>\n",
       "      <td>NaN</td>\n",
       "      <td>41.79</td>\n",
       "      <td>-87.60</td>\n",
       "      <td>41.77</td>\n",
       "      <td>-87.62</td>\n",
       "      <td>member</td>\n",
       "    </tr>\n",
       "  </tbody>\n",
       "</table>\n",
       "</div>"
      ],
      "text/plain": [
       "   rideable_type           started_at             ended_at start_station_name  \\\n",
       "0  electric_bike  2021-08-10 17:15:49  2021-08-10 17:22:44                NaN   \n",
       "1  electric_bike  2021-08-10 17:23:14  2021-08-10 17:39:24                NaN   \n",
       "2  electric_bike  2021-08-21 02:34:23  2021-08-21 02:50:36                NaN   \n",
       "3  electric_bike  2021-08-21 06:52:55  2021-08-21 07:08:13                NaN   \n",
       "4  electric_bike  2021-08-19 11:55:29  2021-08-19 12:04:11                NaN   \n",
       "\n",
       "  start_station_id end_station_name end_station_id  start_lat  start_lng  \\\n",
       "0              NaN              NaN            NaN      41.77     -87.68   \n",
       "1              NaN              NaN            NaN      41.77     -87.68   \n",
       "2              NaN              NaN            NaN      41.95     -87.65   \n",
       "3              NaN              NaN            NaN      41.97     -87.67   \n",
       "4              NaN              NaN            NaN      41.79     -87.60   \n",
       "\n",
       "   end_lat  end_lng member_casual  \n",
       "0    41.77   -87.68        member  \n",
       "1    41.77   -87.63        member  \n",
       "2    41.97   -87.66        member  \n",
       "3    41.95   -87.65        member  \n",
       "4    41.77   -87.62        member  "
      ]
     },
     "execution_count": 21,
     "metadata": {},
     "output_type": "execute_result"
    }
   ],
   "source": [
    "data=data.iloc[:,1:]\n",
    "data.head()"
   ]
  },
  {
   "cell_type": "code",
   "execution_count": 17,
   "id": "3da69fd0",
   "metadata": {},
   "outputs": [
    {
     "data": {
      "text/plain": [
       "classic_bike     2288547\n",
       "electric_bike    1577276\n",
       "docked_bike      1047249\n",
       "Name: rideable_type, dtype: int64"
      ]
     },
     "execution_count": 17,
     "metadata": {},
     "output_type": "execute_result"
    }
   ],
   "source": [
    "data['rideable_type'].value_counts()"
   ]
  },
  {
   "cell_type": "code",
   "execution_count": 22,
   "id": "3ea682c7",
   "metadata": {},
   "outputs": [
    {
     "data": {
      "text/plain": [
       "rideable_type                 object\n",
       "started_at            datetime64[ns]\n",
       "ended_at              datetime64[ns]\n",
       "start_station_name            object\n",
       "start_station_id              object\n",
       "end_station_name              object\n",
       "end_station_id                object\n",
       "start_lat                    float64\n",
       "start_lng                    float64\n",
       "end_lat                      float64\n",
       "end_lng                      float64\n",
       "member_casual                 object\n",
       "dtype: object"
      ]
     },
     "execution_count": 22,
     "metadata": {},
     "output_type": "execute_result"
    }
   ],
   "source": [
    "data['started_at'] = pd.to_datetime(data['started_at'])\n",
    "data['ended_at'] = pd.to_datetime(data['ended_at'])\n",
    "data.dtypes"
   ]
  },
  {
   "cell_type": "code",
   "execution_count": 23,
   "id": "22f8c24e",
   "metadata": {},
   "outputs": [
    {
     "data": {
      "text/html": [
       "<div>\n",
       "<style scoped>\n",
       "    .dataframe tbody tr th:only-of-type {\n",
       "        vertical-align: middle;\n",
       "    }\n",
       "\n",
       "    .dataframe tbody tr th {\n",
       "        vertical-align: top;\n",
       "    }\n",
       "\n",
       "    .dataframe thead th {\n",
       "        text-align: right;\n",
       "    }\n",
       "</style>\n",
       "<table border=\"1\" class=\"dataframe\">\n",
       "  <thead>\n",
       "    <tr style=\"text-align: right;\">\n",
       "      <th></th>\n",
       "      <th>rideable_type</th>\n",
       "      <th>started_at</th>\n",
       "      <th>ended_at</th>\n",
       "      <th>start_station_name</th>\n",
       "      <th>start_station_id</th>\n",
       "      <th>end_station_name</th>\n",
       "      <th>end_station_id</th>\n",
       "      <th>start_lat</th>\n",
       "      <th>start_lng</th>\n",
       "      <th>end_lat</th>\n",
       "      <th>end_lng</th>\n",
       "      <th>member_casual</th>\n",
       "      <th>duration</th>\n",
       "    </tr>\n",
       "  </thead>\n",
       "  <tbody>\n",
       "    <tr>\n",
       "      <th>0</th>\n",
       "      <td>electric_bike</td>\n",
       "      <td>2021-08-10 17:15:49</td>\n",
       "      <td>2021-08-10 17:22:44</td>\n",
       "      <td>NaN</td>\n",
       "      <td>NaN</td>\n",
       "      <td>NaN</td>\n",
       "      <td>NaN</td>\n",
       "      <td>41.77</td>\n",
       "      <td>-87.68</td>\n",
       "      <td>41.77</td>\n",
       "      <td>-87.68</td>\n",
       "      <td>member</td>\n",
       "      <td>0 days 00:06:55</td>\n",
       "    </tr>\n",
       "    <tr>\n",
       "      <th>1</th>\n",
       "      <td>electric_bike</td>\n",
       "      <td>2021-08-10 17:23:14</td>\n",
       "      <td>2021-08-10 17:39:24</td>\n",
       "      <td>NaN</td>\n",
       "      <td>NaN</td>\n",
       "      <td>NaN</td>\n",
       "      <td>NaN</td>\n",
       "      <td>41.77</td>\n",
       "      <td>-87.68</td>\n",
       "      <td>41.77</td>\n",
       "      <td>-87.63</td>\n",
       "      <td>member</td>\n",
       "      <td>0 days 00:16:10</td>\n",
       "    </tr>\n",
       "    <tr>\n",
       "      <th>2</th>\n",
       "      <td>electric_bike</td>\n",
       "      <td>2021-08-21 02:34:23</td>\n",
       "      <td>2021-08-21 02:50:36</td>\n",
       "      <td>NaN</td>\n",
       "      <td>NaN</td>\n",
       "      <td>NaN</td>\n",
       "      <td>NaN</td>\n",
       "      <td>41.95</td>\n",
       "      <td>-87.65</td>\n",
       "      <td>41.97</td>\n",
       "      <td>-87.66</td>\n",
       "      <td>member</td>\n",
       "      <td>0 days 00:16:13</td>\n",
       "    </tr>\n",
       "    <tr>\n",
       "      <th>3</th>\n",
       "      <td>electric_bike</td>\n",
       "      <td>2021-08-21 06:52:55</td>\n",
       "      <td>2021-08-21 07:08:13</td>\n",
       "      <td>NaN</td>\n",
       "      <td>NaN</td>\n",
       "      <td>NaN</td>\n",
       "      <td>NaN</td>\n",
       "      <td>41.97</td>\n",
       "      <td>-87.67</td>\n",
       "      <td>41.95</td>\n",
       "      <td>-87.65</td>\n",
       "      <td>member</td>\n",
       "      <td>0 days 00:15:18</td>\n",
       "    </tr>\n",
       "    <tr>\n",
       "      <th>4</th>\n",
       "      <td>electric_bike</td>\n",
       "      <td>2021-08-19 11:55:29</td>\n",
       "      <td>2021-08-19 12:04:11</td>\n",
       "      <td>NaN</td>\n",
       "      <td>NaN</td>\n",
       "      <td>NaN</td>\n",
       "      <td>NaN</td>\n",
       "      <td>41.79</td>\n",
       "      <td>-87.60</td>\n",
       "      <td>41.77</td>\n",
       "      <td>-87.62</td>\n",
       "      <td>member</td>\n",
       "      <td>0 days 00:08:42</td>\n",
       "    </tr>\n",
       "  </tbody>\n",
       "</table>\n",
       "</div>"
      ],
      "text/plain": [
       "   rideable_type          started_at            ended_at start_station_name  \\\n",
       "0  electric_bike 2021-08-10 17:15:49 2021-08-10 17:22:44                NaN   \n",
       "1  electric_bike 2021-08-10 17:23:14 2021-08-10 17:39:24                NaN   \n",
       "2  electric_bike 2021-08-21 02:34:23 2021-08-21 02:50:36                NaN   \n",
       "3  electric_bike 2021-08-21 06:52:55 2021-08-21 07:08:13                NaN   \n",
       "4  electric_bike 2021-08-19 11:55:29 2021-08-19 12:04:11                NaN   \n",
       "\n",
       "  start_station_id end_station_name end_station_id  start_lat  start_lng  \\\n",
       "0              NaN              NaN            NaN      41.77     -87.68   \n",
       "1              NaN              NaN            NaN      41.77     -87.68   \n",
       "2              NaN              NaN            NaN      41.95     -87.65   \n",
       "3              NaN              NaN            NaN      41.97     -87.67   \n",
       "4              NaN              NaN            NaN      41.79     -87.60   \n",
       "\n",
       "   end_lat  end_lng member_casual        duration  \n",
       "0    41.77   -87.68        member 0 days 00:06:55  \n",
       "1    41.77   -87.63        member 0 days 00:16:10  \n",
       "2    41.97   -87.66        member 0 days 00:16:13  \n",
       "3    41.95   -87.65        member 0 days 00:15:18  \n",
       "4    41.77   -87.62        member 0 days 00:08:42  "
      ]
     },
     "execution_count": 23,
     "metadata": {},
     "output_type": "execute_result"
    }
   ],
   "source": [
    "data['duration'] = data['ended_at'] - data['started_at']\n",
    "data.head()"
   ]
  },
  {
   "cell_type": "code",
   "execution_count": 24,
   "id": "b33f33d7",
   "metadata": {},
   "outputs": [
    {
     "data": {
      "text/plain": [
       "rideable_type              0\n",
       "started_at                 0\n",
       "ended_at                   0\n",
       "start_station_name    450045\n",
       "start_station_id      450571\n",
       "end_station_name      491380\n",
       "end_station_id        491764\n",
       "start_lat                  0\n",
       "start_lng                  0\n",
       "end_lat                 5015\n",
       "end_lng                 5015\n",
       "member_casual              0\n",
       "duration                   0\n",
       "dtype: int64"
      ]
     },
     "execution_count": 24,
     "metadata": {},
     "output_type": "execute_result"
    }
   ],
   "source": [
    "data.isnull().sum()"
   ]
  },
  {
   "cell_type": "code",
   "execution_count": 25,
   "id": "d3eb3330",
   "metadata": {},
   "outputs": [
    {
     "data": {
      "text/html": [
       "<div>\n",
       "<style scoped>\n",
       "    .dataframe tbody tr th:only-of-type {\n",
       "        vertical-align: middle;\n",
       "    }\n",
       "\n",
       "    .dataframe tbody tr th {\n",
       "        vertical-align: top;\n",
       "    }\n",
       "\n",
       "    .dataframe thead th {\n",
       "        text-align: right;\n",
       "    }\n",
       "</style>\n",
       "<table border=\"1\" class=\"dataframe\">\n",
       "  <thead>\n",
       "    <tr style=\"text-align: right;\">\n",
       "      <th></th>\n",
       "      <th>count</th>\n",
       "      <th>mean</th>\n",
       "      <th>std</th>\n",
       "      <th>min</th>\n",
       "      <th>25%</th>\n",
       "      <th>50%</th>\n",
       "      <th>75%</th>\n",
       "      <th>max</th>\n",
       "    </tr>\n",
       "  </thead>\n",
       "  <tbody>\n",
       "    <tr>\n",
       "      <th>start_lat</th>\n",
       "      <td>4913072.0</td>\n",
       "      <td>41.90267</td>\n",
       "      <td>0.044446</td>\n",
       "      <td>41.64</td>\n",
       "      <td>41.882134</td>\n",
       "      <td>41.89993</td>\n",
       "      <td>41.929419</td>\n",
       "      <td>42.08</td>\n",
       "    </tr>\n",
       "    <tr>\n",
       "      <th>start_lng</th>\n",
       "      <td>4913072.0</td>\n",
       "      <td>-87.645146</td>\n",
       "      <td>0.026805</td>\n",
       "      <td>-87.84</td>\n",
       "      <td>-87.659141</td>\n",
       "      <td>-87.64117</td>\n",
       "      <td>-87.627697</td>\n",
       "      <td>-87.52</td>\n",
       "    </tr>\n",
       "    <tr>\n",
       "      <th>end_lat</th>\n",
       "      <td>4908057.0</td>\n",
       "      <td>41.902967</td>\n",
       "      <td>0.04455</td>\n",
       "      <td>41.51</td>\n",
       "      <td>41.882242</td>\n",
       "      <td>41.9</td>\n",
       "      <td>41.929546</td>\n",
       "      <td>42.15</td>\n",
       "    </tr>\n",
       "    <tr>\n",
       "      <th>end_lng</th>\n",
       "      <td>4908057.0</td>\n",
       "      <td>-87.645379</td>\n",
       "      <td>0.026984</td>\n",
       "      <td>-88.07</td>\n",
       "      <td>-87.659554</td>\n",
       "      <td>-87.641666</td>\n",
       "      <td>-87.627716</td>\n",
       "      <td>-87.44</td>\n",
       "    </tr>\n",
       "    <tr>\n",
       "      <th>duration</th>\n",
       "      <td>4913072</td>\n",
       "      <td>0 days 00:21:08.675098187</td>\n",
       "      <td>0 days 05:17:42.450577726</td>\n",
       "      <td>-21 days +19:50:02</td>\n",
       "      <td>0 days 00:07:11</td>\n",
       "      <td>0 days 00:12:48</td>\n",
       "      <td>0 days 00:23:16</td>\n",
       "      <td>38 days 20:24:09</td>\n",
       "    </tr>\n",
       "  </tbody>\n",
       "</table>\n",
       "</div>"
      ],
      "text/plain": [
       "               count                       mean                        std  \\\n",
       "start_lat  4913072.0                   41.90267                   0.044446   \n",
       "start_lng  4913072.0                 -87.645146                   0.026805   \n",
       "end_lat    4908057.0                  41.902967                    0.04455   \n",
       "end_lng    4908057.0                 -87.645379                   0.026984   \n",
       "duration     4913072  0 days 00:21:08.675098187  0 days 05:17:42.450577726   \n",
       "\n",
       "                          min              25%              50%  \\\n",
       "start_lat               41.64        41.882134         41.89993   \n",
       "start_lng              -87.84       -87.659141        -87.64117   \n",
       "end_lat                 41.51        41.882242             41.9   \n",
       "end_lng                -88.07       -87.659554       -87.641666   \n",
       "duration   -21 days +19:50:02  0 days 00:07:11  0 days 00:12:48   \n",
       "\n",
       "                       75%               max  \n",
       "start_lat        41.929419             42.08  \n",
       "start_lng       -87.627697            -87.52  \n",
       "end_lat          41.929546             42.15  \n",
       "end_lng         -87.627716            -87.44  \n",
       "duration   0 days 00:23:16  38 days 20:24:09  "
      ]
     },
     "execution_count": 25,
     "metadata": {},
     "output_type": "execute_result"
    }
   ],
   "source": [
    "data.describe().T"
   ]
  },
  {
   "cell_type": "code",
   "execution_count": 30,
   "id": "9faae43e",
   "metadata": {},
   "outputs": [],
   "source": [
    "data['duration']=data['duration'].astype('timedelta64[s]')"
   ]
  },
  {
   "cell_type": "code",
   "execution_count": 31,
   "id": "a10461e5",
   "metadata": {},
   "outputs": [
    {
     "data": {
      "text/html": [
       "<div>\n",
       "<style scoped>\n",
       "    .dataframe tbody tr th:only-of-type {\n",
       "        vertical-align: middle;\n",
       "    }\n",
       "\n",
       "    .dataframe tbody tr th {\n",
       "        vertical-align: top;\n",
       "    }\n",
       "\n",
       "    .dataframe thead th {\n",
       "        text-align: right;\n",
       "    }\n",
       "</style>\n",
       "<table border=\"1\" class=\"dataframe\">\n",
       "  <thead>\n",
       "    <tr style=\"text-align: right;\">\n",
       "      <th></th>\n",
       "      <th>count</th>\n",
       "      <th>mean</th>\n",
       "      <th>std</th>\n",
       "      <th>min</th>\n",
       "      <th>25%</th>\n",
       "      <th>50%</th>\n",
       "      <th>75%</th>\n",
       "      <th>max</th>\n",
       "    </tr>\n",
       "  </thead>\n",
       "  <tbody>\n",
       "    <tr>\n",
       "      <th>start_lat</th>\n",
       "      <td>4907226.0</td>\n",
       "      <td>41.902670</td>\n",
       "      <td>0.044451</td>\n",
       "      <td>41.64</td>\n",
       "      <td>41.882134</td>\n",
       "      <td>41.899930</td>\n",
       "      <td>41.929423</td>\n",
       "      <td>42.08</td>\n",
       "    </tr>\n",
       "    <tr>\n",
       "      <th>start_lng</th>\n",
       "      <td>4907226.0</td>\n",
       "      <td>-87.645152</td>\n",
       "      <td>0.026809</td>\n",
       "      <td>-87.84</td>\n",
       "      <td>-87.659141</td>\n",
       "      <td>-87.641170</td>\n",
       "      <td>-87.627703</td>\n",
       "      <td>-87.52</td>\n",
       "    </tr>\n",
       "    <tr>\n",
       "      <th>end_lat</th>\n",
       "      <td>4902242.0</td>\n",
       "      <td>41.902967</td>\n",
       "      <td>0.044554</td>\n",
       "      <td>41.51</td>\n",
       "      <td>41.882242</td>\n",
       "      <td>41.900000</td>\n",
       "      <td>41.929546</td>\n",
       "      <td>42.15</td>\n",
       "    </tr>\n",
       "    <tr>\n",
       "      <th>end_lng</th>\n",
       "      <td>4902242.0</td>\n",
       "      <td>-87.645383</td>\n",
       "      <td>0.026988</td>\n",
       "      <td>-88.07</td>\n",
       "      <td>-87.659637</td>\n",
       "      <td>-87.641688</td>\n",
       "      <td>-87.627716</td>\n",
       "      <td>-87.44</td>\n",
       "    </tr>\n",
       "    <tr>\n",
       "      <th>duration</th>\n",
       "      <td>4907226.0</td>\n",
       "      <td>1402.412886</td>\n",
       "      <td>11697.130644</td>\n",
       "      <td>1.00</td>\n",
       "      <td>432.000000</td>\n",
       "      <td>769.000000</td>\n",
       "      <td>1398.000000</td>\n",
       "      <td>3356649.00</td>\n",
       "    </tr>\n",
       "  </tbody>\n",
       "</table>\n",
       "</div>"
      ],
      "text/plain": [
       "               count         mean           std    min         25%  \\\n",
       "start_lat  4907226.0    41.902670      0.044451  41.64   41.882134   \n",
       "start_lng  4907226.0   -87.645152      0.026809 -87.84  -87.659141   \n",
       "end_lat    4902242.0    41.902967      0.044554  41.51   41.882242   \n",
       "end_lng    4902242.0   -87.645383      0.026988 -88.07  -87.659637   \n",
       "duration   4907226.0  1402.412886  11697.130644   1.00  432.000000   \n",
       "\n",
       "                  50%          75%         max  \n",
       "start_lat   41.899930    41.929423       42.08  \n",
       "start_lng  -87.641170   -87.627703      -87.52  \n",
       "end_lat     41.900000    41.929546       42.15  \n",
       "end_lng    -87.641688   -87.627716      -87.44  \n",
       "duration   769.000000  1398.000000  3356649.00  "
      ]
     },
     "execution_count": 31,
     "metadata": {},
     "output_type": "execute_result"
    }
   ],
   "source": [
    "data = data.drop(data[data.duration<=0].index)\n",
    "data.describe().T"
   ]
  },
  {
   "cell_type": "code",
   "execution_count": 32,
   "id": "62e582ab",
   "metadata": {},
   "outputs": [
    {
     "data": {
      "text/plain": [
       "member    2683762\n",
       "casual    2223464\n",
       "Name: member_casual, dtype: int64"
      ]
     },
     "execution_count": 32,
     "metadata": {},
     "output_type": "execute_result"
    }
   ],
   "source": [
    "data.member_casual.value_counts()"
   ]
  },
  {
   "cell_type": "code",
   "execution_count": 35,
   "id": "c8da213f",
   "metadata": {},
   "outputs": [
    {
     "data": {
      "text/plain": [
       "rideable_type                 object\n",
       "started_at            datetime64[ns]\n",
       "ended_at              datetime64[ns]\n",
       "start_station_name            object\n",
       "start_station_id              object\n",
       "end_station_name              object\n",
       "end_station_id                object\n",
       "start_lat                    float64\n",
       "start_lng                    float64\n",
       "end_lat                      float64\n",
       "end_lng                      float64\n",
       "member_casual                 object\n",
       "duration                     float64\n",
       "dtype: object"
      ]
     },
     "execution_count": 35,
     "metadata": {},
     "output_type": "execute_result"
    }
   ],
   "source": [
    "data.dtypes"
   ]
  },
  {
   "cell_type": "code",
   "execution_count": 114,
   "id": "6f8962f3",
   "metadata": {},
   "outputs": [
    {
     "data": {
      "text/html": [
       "<div>\n",
       "<style scoped>\n",
       "    .dataframe tbody tr th:only-of-type {\n",
       "        vertical-align: middle;\n",
       "    }\n",
       "\n",
       "    .dataframe tbody tr th {\n",
       "        vertical-align: top;\n",
       "    }\n",
       "\n",
       "    .dataframe thead th {\n",
       "        text-align: right;\n",
       "    }\n",
       "</style>\n",
       "<table border=\"1\" class=\"dataframe\">\n",
       "  <thead>\n",
       "    <tr style=\"text-align: right;\">\n",
       "      <th></th>\n",
       "      <th>rideable_type</th>\n",
       "      <th>started_at</th>\n",
       "      <th>ended_at</th>\n",
       "      <th>start_station_name</th>\n",
       "      <th>start_station_id</th>\n",
       "      <th>end_station_name</th>\n",
       "      <th>end_station_id</th>\n",
       "      <th>start_lat</th>\n",
       "      <th>start_lng</th>\n",
       "      <th>end_lat</th>\n",
       "      <th>end_lng</th>\n",
       "      <th>member_casual</th>\n",
       "      <th>duration</th>\n",
       "      <th>month</th>\n",
       "    </tr>\n",
       "  </thead>\n",
       "  <tbody>\n",
       "    <tr>\n",
       "      <th>0</th>\n",
       "      <td>electric_bike</td>\n",
       "      <td>2021-08-10 17:15:49</td>\n",
       "      <td>2021-08-10 17:22:44</td>\n",
       "      <td>NaN</td>\n",
       "      <td>NaN</td>\n",
       "      <td>NaN</td>\n",
       "      <td>NaN</td>\n",
       "      <td>41.77</td>\n",
       "      <td>-87.68</td>\n",
       "      <td>41.77</td>\n",
       "      <td>-87.68</td>\n",
       "      <td>member</td>\n",
       "      <td>415.0</td>\n",
       "      <td>2021-08</td>\n",
       "    </tr>\n",
       "    <tr>\n",
       "      <th>1</th>\n",
       "      <td>electric_bike</td>\n",
       "      <td>2021-08-10 17:23:14</td>\n",
       "      <td>2021-08-10 17:39:24</td>\n",
       "      <td>NaN</td>\n",
       "      <td>NaN</td>\n",
       "      <td>NaN</td>\n",
       "      <td>NaN</td>\n",
       "      <td>41.77</td>\n",
       "      <td>-87.68</td>\n",
       "      <td>41.77</td>\n",
       "      <td>-87.63</td>\n",
       "      <td>member</td>\n",
       "      <td>970.0</td>\n",
       "      <td>2021-08</td>\n",
       "    </tr>\n",
       "    <tr>\n",
       "      <th>2</th>\n",
       "      <td>electric_bike</td>\n",
       "      <td>2021-08-21 02:34:23</td>\n",
       "      <td>2021-08-21 02:50:36</td>\n",
       "      <td>NaN</td>\n",
       "      <td>NaN</td>\n",
       "      <td>NaN</td>\n",
       "      <td>NaN</td>\n",
       "      <td>41.95</td>\n",
       "      <td>-87.65</td>\n",
       "      <td>41.97</td>\n",
       "      <td>-87.66</td>\n",
       "      <td>member</td>\n",
       "      <td>973.0</td>\n",
       "      <td>2021-08</td>\n",
       "    </tr>\n",
       "    <tr>\n",
       "      <th>3</th>\n",
       "      <td>electric_bike</td>\n",
       "      <td>2021-08-21 06:52:55</td>\n",
       "      <td>2021-08-21 07:08:13</td>\n",
       "      <td>NaN</td>\n",
       "      <td>NaN</td>\n",
       "      <td>NaN</td>\n",
       "      <td>NaN</td>\n",
       "      <td>41.97</td>\n",
       "      <td>-87.67</td>\n",
       "      <td>41.95</td>\n",
       "      <td>-87.65</td>\n",
       "      <td>member</td>\n",
       "      <td>918.0</td>\n",
       "      <td>2021-08</td>\n",
       "    </tr>\n",
       "    <tr>\n",
       "      <th>4</th>\n",
       "      <td>electric_bike</td>\n",
       "      <td>2021-08-19 11:55:29</td>\n",
       "      <td>2021-08-19 12:04:11</td>\n",
       "      <td>NaN</td>\n",
       "      <td>NaN</td>\n",
       "      <td>NaN</td>\n",
       "      <td>NaN</td>\n",
       "      <td>41.79</td>\n",
       "      <td>-87.60</td>\n",
       "      <td>41.77</td>\n",
       "      <td>-87.62</td>\n",
       "      <td>member</td>\n",
       "      <td>522.0</td>\n",
       "      <td>2021-08</td>\n",
       "    </tr>\n",
       "  </tbody>\n",
       "</table>\n",
       "</div>"
      ],
      "text/plain": [
       "   rideable_type          started_at            ended_at start_station_name  \\\n",
       "0  electric_bike 2021-08-10 17:15:49 2021-08-10 17:22:44                NaN   \n",
       "1  electric_bike 2021-08-10 17:23:14 2021-08-10 17:39:24                NaN   \n",
       "2  electric_bike 2021-08-21 02:34:23 2021-08-21 02:50:36                NaN   \n",
       "3  electric_bike 2021-08-21 06:52:55 2021-08-21 07:08:13                NaN   \n",
       "4  electric_bike 2021-08-19 11:55:29 2021-08-19 12:04:11                NaN   \n",
       "\n",
       "  start_station_id end_station_name end_station_id  start_lat  start_lng  \\\n",
       "0              NaN              NaN            NaN      41.77     -87.68   \n",
       "1              NaN              NaN            NaN      41.77     -87.68   \n",
       "2              NaN              NaN            NaN      41.95     -87.65   \n",
       "3              NaN              NaN            NaN      41.97     -87.67   \n",
       "4              NaN              NaN            NaN      41.79     -87.60   \n",
       "\n",
       "   end_lat  end_lng member_casual  duration    month  \n",
       "0    41.77   -87.68        member     415.0  2021-08  \n",
       "1    41.77   -87.63        member     970.0  2021-08  \n",
       "2    41.97   -87.66        member     973.0  2021-08  \n",
       "3    41.95   -87.65        member     918.0  2021-08  \n",
       "4    41.77   -87.62        member     522.0  2021-08  "
      ]
     },
     "execution_count": 114,
     "metadata": {},
     "output_type": "execute_result"
    }
   ],
   "source": [
    "data['month'] = data[\"started_at\"].dt.strftime(\"%Y-%m\")\n",
    "data.head()"
   ]
  },
  {
   "cell_type": "code",
   "execution_count": 115,
   "id": "e213bf2a",
   "metadata": {},
   "outputs": [
    {
     "data": {
      "text/html": [
       "<div>\n",
       "<style scoped>\n",
       "    .dataframe tbody tr th:only-of-type {\n",
       "        vertical-align: middle;\n",
       "    }\n",
       "\n",
       "    .dataframe tbody tr th {\n",
       "        vertical-align: top;\n",
       "    }\n",
       "\n",
       "    .dataframe thead th {\n",
       "        text-align: right;\n",
       "    }\n",
       "</style>\n",
       "<table border=\"1\" class=\"dataframe\">\n",
       "  <thead>\n",
       "    <tr style=\"text-align: right;\">\n",
       "      <th></th>\n",
       "      <th>rideable_type</th>\n",
       "      <th>started_at</th>\n",
       "      <th>ended_at</th>\n",
       "      <th>start_station_name</th>\n",
       "      <th>start_station_id</th>\n",
       "      <th>end_station_name</th>\n",
       "      <th>end_station_id</th>\n",
       "      <th>start_lat</th>\n",
       "      <th>start_lng</th>\n",
       "      <th>end_lat</th>\n",
       "      <th>end_lng</th>\n",
       "      <th>member_casual</th>\n",
       "      <th>duration</th>\n",
       "      <th>month</th>\n",
       "      <th>weekday</th>\n",
       "    </tr>\n",
       "  </thead>\n",
       "  <tbody>\n",
       "    <tr>\n",
       "      <th>0</th>\n",
       "      <td>electric_bike</td>\n",
       "      <td>2021-08-10 17:15:49</td>\n",
       "      <td>2021-08-10 17:22:44</td>\n",
       "      <td>NaN</td>\n",
       "      <td>NaN</td>\n",
       "      <td>NaN</td>\n",
       "      <td>NaN</td>\n",
       "      <td>41.77</td>\n",
       "      <td>-87.68</td>\n",
       "      <td>41.77</td>\n",
       "      <td>-87.68</td>\n",
       "      <td>member</td>\n",
       "      <td>415.0</td>\n",
       "      <td>2021-08</td>\n",
       "      <td>Tuesday</td>\n",
       "    </tr>\n",
       "    <tr>\n",
       "      <th>1</th>\n",
       "      <td>electric_bike</td>\n",
       "      <td>2021-08-10 17:23:14</td>\n",
       "      <td>2021-08-10 17:39:24</td>\n",
       "      <td>NaN</td>\n",
       "      <td>NaN</td>\n",
       "      <td>NaN</td>\n",
       "      <td>NaN</td>\n",
       "      <td>41.77</td>\n",
       "      <td>-87.68</td>\n",
       "      <td>41.77</td>\n",
       "      <td>-87.63</td>\n",
       "      <td>member</td>\n",
       "      <td>970.0</td>\n",
       "      <td>2021-08</td>\n",
       "      <td>Tuesday</td>\n",
       "    </tr>\n",
       "    <tr>\n",
       "      <th>2</th>\n",
       "      <td>electric_bike</td>\n",
       "      <td>2021-08-21 02:34:23</td>\n",
       "      <td>2021-08-21 02:50:36</td>\n",
       "      <td>NaN</td>\n",
       "      <td>NaN</td>\n",
       "      <td>NaN</td>\n",
       "      <td>NaN</td>\n",
       "      <td>41.95</td>\n",
       "      <td>-87.65</td>\n",
       "      <td>41.97</td>\n",
       "      <td>-87.66</td>\n",
       "      <td>member</td>\n",
       "      <td>973.0</td>\n",
       "      <td>2021-08</td>\n",
       "      <td>Saturday</td>\n",
       "    </tr>\n",
       "    <tr>\n",
       "      <th>3</th>\n",
       "      <td>electric_bike</td>\n",
       "      <td>2021-08-21 06:52:55</td>\n",
       "      <td>2021-08-21 07:08:13</td>\n",
       "      <td>NaN</td>\n",
       "      <td>NaN</td>\n",
       "      <td>NaN</td>\n",
       "      <td>NaN</td>\n",
       "      <td>41.97</td>\n",
       "      <td>-87.67</td>\n",
       "      <td>41.95</td>\n",
       "      <td>-87.65</td>\n",
       "      <td>member</td>\n",
       "      <td>918.0</td>\n",
       "      <td>2021-08</td>\n",
       "      <td>Saturday</td>\n",
       "    </tr>\n",
       "    <tr>\n",
       "      <th>4</th>\n",
       "      <td>electric_bike</td>\n",
       "      <td>2021-08-19 11:55:29</td>\n",
       "      <td>2021-08-19 12:04:11</td>\n",
       "      <td>NaN</td>\n",
       "      <td>NaN</td>\n",
       "      <td>NaN</td>\n",
       "      <td>NaN</td>\n",
       "      <td>41.79</td>\n",
       "      <td>-87.60</td>\n",
       "      <td>41.77</td>\n",
       "      <td>-87.62</td>\n",
       "      <td>member</td>\n",
       "      <td>522.0</td>\n",
       "      <td>2021-08</td>\n",
       "      <td>Thursday</td>\n",
       "    </tr>\n",
       "  </tbody>\n",
       "</table>\n",
       "</div>"
      ],
      "text/plain": [
       "   rideable_type          started_at            ended_at start_station_name  \\\n",
       "0  electric_bike 2021-08-10 17:15:49 2021-08-10 17:22:44                NaN   \n",
       "1  electric_bike 2021-08-10 17:23:14 2021-08-10 17:39:24                NaN   \n",
       "2  electric_bike 2021-08-21 02:34:23 2021-08-21 02:50:36                NaN   \n",
       "3  electric_bike 2021-08-21 06:52:55 2021-08-21 07:08:13                NaN   \n",
       "4  electric_bike 2021-08-19 11:55:29 2021-08-19 12:04:11                NaN   \n",
       "\n",
       "  start_station_id end_station_name end_station_id  start_lat  start_lng  \\\n",
       "0              NaN              NaN            NaN      41.77     -87.68   \n",
       "1              NaN              NaN            NaN      41.77     -87.68   \n",
       "2              NaN              NaN            NaN      41.95     -87.65   \n",
       "3              NaN              NaN            NaN      41.97     -87.67   \n",
       "4              NaN              NaN            NaN      41.79     -87.60   \n",
       "\n",
       "   end_lat  end_lng member_casual  duration    month   weekday  \n",
       "0    41.77   -87.68        member     415.0  2021-08   Tuesday  \n",
       "1    41.77   -87.63        member     970.0  2021-08   Tuesday  \n",
       "2    41.97   -87.66        member     973.0  2021-08  Saturday  \n",
       "3    41.95   -87.65        member     918.0  2021-08  Saturday  \n",
       "4    41.77   -87.62        member     522.0  2021-08  Thursday  "
      ]
     },
     "execution_count": 115,
     "metadata": {},
     "output_type": "execute_result"
    }
   ],
   "source": [
    "data['weekday']=data['started_at'].dt.day_name()\n",
    "data.head()"
   ]
  },
  {
   "cell_type": "markdown",
   "id": "f25da375",
   "metadata": {},
   "source": [
    "## 01Analysis against weekday"
   ]
  },
  {
   "cell_type": "code",
   "execution_count": 123,
   "id": "a9752786",
   "metadata": {},
   "outputs": [
    {
     "data": {
      "text/plain": [
       "weekday    member_casual\n",
       "Monday     casual           250430\n",
       "           member           364509\n",
       "Tuesday    casual           242192\n",
       "           member           399884\n",
       "Wednesday  casual           241791\n",
       "           member           406382\n",
       "Thursday   casual           247861\n",
       "           member           390352\n",
       "Friday     casual           322122\n",
       "           member           395838\n",
       "Saturday   casual           498747\n",
       "           member           389634\n",
       "Sunday     casual           420321\n",
       "           member           337163\n",
       "Name: duration, dtype: int64"
      ]
     },
     "execution_count": 123,
     "metadata": {},
     "output_type": "execute_result"
    }
   ],
   "source": [
    "#01 Business analysis among weekdays.\n",
    "days=['Monday', 'Tuesday', 'Wednesday', 'Thursday', 'Friday', 'Saturday', 'Sunday']\n",
    "sta_weekday=data.groupby(['weekday','member_casual'])['duration'].count().reindex(days,level=0)\n",
    "sta_weekday"
   ]
  },
  {
   "cell_type": "code",
   "execution_count": 133,
   "id": "ecffb71c",
   "metadata": {},
   "outputs": [
    {
     "data": {
      "text/html": [
       "<div>\n",
       "<style scoped>\n",
       "    .dataframe tbody tr th:only-of-type {\n",
       "        vertical-align: middle;\n",
       "    }\n",
       "\n",
       "    .dataframe tbody tr th {\n",
       "        vertical-align: top;\n",
       "    }\n",
       "\n",
       "    .dataframe thead th {\n",
       "        text-align: right;\n",
       "    }\n",
       "</style>\n",
       "<table border=\"1\" class=\"dataframe\">\n",
       "  <thead>\n",
       "    <tr style=\"text-align: right;\">\n",
       "      <th></th>\n",
       "      <th>weekday</th>\n",
       "      <th>member_casual</th>\n",
       "      <th>duration</th>\n",
       "    </tr>\n",
       "  </thead>\n",
       "  <tbody>\n",
       "    <tr>\n",
       "      <th>0</th>\n",
       "      <td>Monday</td>\n",
       "      <td>casual</td>\n",
       "      <td>250430</td>\n",
       "    </tr>\n",
       "    <tr>\n",
       "      <th>1</th>\n",
       "      <td>Monday</td>\n",
       "      <td>member</td>\n",
       "      <td>364509</td>\n",
       "    </tr>\n",
       "    <tr>\n",
       "      <th>2</th>\n",
       "      <td>Tuesday</td>\n",
       "      <td>casual</td>\n",
       "      <td>242192</td>\n",
       "    </tr>\n",
       "    <tr>\n",
       "      <th>3</th>\n",
       "      <td>Tuesday</td>\n",
       "      <td>member</td>\n",
       "      <td>399884</td>\n",
       "    </tr>\n",
       "    <tr>\n",
       "      <th>4</th>\n",
       "      <td>Wednesday</td>\n",
       "      <td>casual</td>\n",
       "      <td>241791</td>\n",
       "    </tr>\n",
       "    <tr>\n",
       "      <th>5</th>\n",
       "      <td>Wednesday</td>\n",
       "      <td>member</td>\n",
       "      <td>406382</td>\n",
       "    </tr>\n",
       "    <tr>\n",
       "      <th>6</th>\n",
       "      <td>Thursday</td>\n",
       "      <td>casual</td>\n",
       "      <td>247861</td>\n",
       "    </tr>\n",
       "    <tr>\n",
       "      <th>7</th>\n",
       "      <td>Thursday</td>\n",
       "      <td>member</td>\n",
       "      <td>390352</td>\n",
       "    </tr>\n",
       "    <tr>\n",
       "      <th>8</th>\n",
       "      <td>Friday</td>\n",
       "      <td>casual</td>\n",
       "      <td>322122</td>\n",
       "    </tr>\n",
       "    <tr>\n",
       "      <th>9</th>\n",
       "      <td>Friday</td>\n",
       "      <td>member</td>\n",
       "      <td>395838</td>\n",
       "    </tr>\n",
       "    <tr>\n",
       "      <th>10</th>\n",
       "      <td>Saturday</td>\n",
       "      <td>casual</td>\n",
       "      <td>498747</td>\n",
       "    </tr>\n",
       "    <tr>\n",
       "      <th>11</th>\n",
       "      <td>Saturday</td>\n",
       "      <td>member</td>\n",
       "      <td>389634</td>\n",
       "    </tr>\n",
       "    <tr>\n",
       "      <th>12</th>\n",
       "      <td>Sunday</td>\n",
       "      <td>casual</td>\n",
       "      <td>420321</td>\n",
       "    </tr>\n",
       "    <tr>\n",
       "      <th>13</th>\n",
       "      <td>Sunday</td>\n",
       "      <td>member</td>\n",
       "      <td>337163</td>\n",
       "    </tr>\n",
       "  </tbody>\n",
       "</table>\n",
       "</div>"
      ],
      "text/plain": [
       "      weekday member_casual  duration\n",
       "0      Monday        casual    250430\n",
       "1      Monday        member    364509\n",
       "2     Tuesday        casual    242192\n",
       "3     Tuesday        member    399884\n",
       "4   Wednesday        casual    241791\n",
       "5   Wednesday        member    406382\n",
       "6    Thursday        casual    247861\n",
       "7    Thursday        member    390352\n",
       "8      Friday        casual    322122\n",
       "9      Friday        member    395838\n",
       "10   Saturday        casual    498747\n",
       "11   Saturday        member    389634\n",
       "12     Sunday        casual    420321\n",
       "13     Sunday        member    337163"
      ]
     },
     "execution_count": 133,
     "metadata": {},
     "output_type": "execute_result"
    }
   ],
   "source": [
    "sta_weekday2=sta_weekday.reset_index()\n",
    "sta_weekday2"
   ]
  },
  {
   "cell_type": "code",
   "execution_count": 140,
   "id": "4fbfbf65",
   "metadata": {},
   "outputs": [
    {
     "data": {
      "text/plain": [
       "Text(0.5, 1.0, 'Weekday vs number of rides')"
      ]
     },
     "execution_count": 140,
     "metadata": {},
     "output_type": "execute_result"
    },
    {
     "data": {
      "image/png": "[encoded data removed]",
      "text/plain": [
       "<Figure size 576x432 with 1 Axes>"
      ]
     },
     "metadata": {
      "needs_background": "light"
     },
     "output_type": "display_data"
    }
   ],
   "source": [
    "import seaborn as sns\n",
    "fig, ax = plt.subplots(figsize=(8,6))\n",
    "ax = sns.barplot(data=sta_weekday2, x=\"weekday\", y=\"duration\", hue=\"member_casual\")\n",
    "plt.title('Weekday vs number of rides')"
   ]
  },
  {
   "cell_type": "code",
   "execution_count": 143,
   "id": "ed7eba17",
   "metadata": {},
   "outputs": [
    {
     "data": {
      "text/plain": [
       "1.261639695820242"
      ]
     },
     "execution_count": 143,
     "metadata": {},
     "output_type": "execute_result"
    }
   ],
   "source": [
    "weekend=['Saturday', 'Sunday']\n",
    "workday=['Monday', 'Tuesday', 'Wednesday', 'Thursday', 'Friday']\n",
    "rides_workday_ave=sta_weekday2[sta_weekday2['weekday'].isin(workday)]['duration'].mean()\n",
    "rides_weekend_ave=sta_weekday2[sta_weekday2['weekday'].isin(weekend)]['duration'].mean()\n",
    "\n",
    "ratio = rides_weekend_ave/rides_workday_ave\n",
    "ratio"
   ]
  },
  {
   "cell_type": "markdown",
   "id": "55c865c6",
   "metadata": {},
   "source": [
    "## 02Analysis rides against month"
   ]
  },
  {
   "cell_type": "code",
   "execution_count": 144,
   "id": "2e8195b0",
   "metadata": {},
   "outputs": [
    {
     "data": {
      "text/plain": [
       "month    member_casual\n",
       "2020-09  casual           230049\n",
       "         member           300718\n",
       "2020-10  casual           144511\n",
       "         member           242191\n",
       "2020-11  casual            87902\n",
       "         member           170921\n",
       "2020-12  casual            29994\n",
       "         member           101137\n",
       "2021-01  casual            18117\n",
       "         member            78711\n",
       "2021-02  casual            10130\n",
       "         member            39488\n",
       "2021-03  casual            84028\n",
       "         member           144456\n",
       "2021-04  casual           136590\n",
       "         member           200602\n",
       "2021-05  casual           256888\n",
       "         member           274691\n",
       "2021-06  casual           370636\n",
       "         member           358893\n",
       "2021-07  casual           442011\n",
       "         member           380317\n",
       "2021-08  casual           412608\n",
       "         member           391637\n",
       "Name: duration, dtype: int64"
      ]
     },
     "execution_count": 144,
     "metadata": {},
     "output_type": "execute_result"
    }
   ],
   "source": [
    "sta_month=data.groupby(['month','member_casual'])['duration'].count()\n"
   ]
  },
  {
   "cell_type": "code",
   "execution_count": 145,
   "id": "910a3d0f",
   "metadata": {},
   "outputs": [
    {
     "data": {
      "text/plain": [
       "Text(0.5, 1.0, 'month vs number of rides')"
      ]
     },
     "execution_count": 145,
     "metadata": {},
     "output_type": "execute_result"
    },
    {
     "data": {
      "image/png": "[encoded data removed]",
      "text/plain": [
       "<Figure size 864x432 with 1 Axes>"
      ]
     },
     "metadata": {
      "needs_background": "light"
     },
     "output_type": "display_data"
    }
   ],
   "source": [
    "sta_month=sta_month.reset_index()\n",
    "fig, ax = plt.subplots(figsize=(12,6))\n",
    "ax = sns.barplot(data=sta_month, x=\"month\", y=\"duration\", hue=\"member_casual\")\n",
    "plt.title('month vs number of rides'"
   ]
  },
  {
   "cell_type": "code",
   "execution_count": 153,
   "id": "81e578cb",
   "metadata": {},
   "outputs": [
    {
     "data": {
      "text/plain": [
       "Index(['2020-09', '2020-10', '2020-11', '2020-12', '2021-01', '2021-02',\n",
       "       '2021-03', '2021-04', '2021-05', '2021-06', '2021-07', '2021-08'],\n",
       "      dtype='object', name='month')"
      ]
     },
     "execution_count": 153,
     "metadata": {},
     "output_type": "execute_result"
    }
   ],
   "source": [
    "sta_month2=pd.pivot_table(sta_month,values='duration',index=['month'],columns=['member_casual'])\n",
    "sta_month2['diff'] = sta_month2['member'] - sta_month2['casual']\n",
    "sta_month2.index"
   ]
  },
  {
   "cell_type": "code",
   "execution_count": 157,
   "id": "e5775b41",
   "metadata": {},
   "outputs": [
    {
     "data": {
      "text/plain": [
       "Text(0.5, 1.0, 'Difference between member and casual customers rides')"
      ]
     },
     "execution_count": 157,
     "metadata": {},
     "output_type": "execute_result"
    },
    {
     "data": {
      "image/png": "[encoded data removed]",
      "text/plain": [
       "<Figure size 720x576 with 1 Axes>"
      ]
     },
     "metadata": {
      "needs_background": "light"
     },
     "output_type": "display_data"
    }
   ],
   "source": [
    "plt.subplots(figsize=(10,8))\n",
    "plt.bar(x=sta_month2.index, height='diff', data=sta_month2, color='c')\n",
    "plt.title('Difference between member and casual customers rides')"
   ]
  },
  {
   "cell_type": "markdown",
   "id": "c3571881",
   "metadata": {},
   "source": [
    "## Duration distribution between different customer types and \trideable_type"
   ]
  },
  {
   "cell_type": "code",
   "execution_count": 171,
   "id": "8765c91b",
   "metadata": {},
   "outputs": [
    {
     "data": {
      "text/plain": [
       "rideable_type  member_casual\n",
       "classic_bike   casual           1779.244913\n",
       "               member            877.163836\n",
       "docked_bike    casual           3602.664865\n",
       "               member            911.946773\n",
       "electric_bike  casual           1275.531413\n",
       "               member            810.213162\n",
       "Name: duration, dtype: float64"
      ]
     },
     "execution_count": 171,
     "metadata": {},
     "output_type": "execute_result"
    }
   ],
   "source": [
    "mean_dis=data.groupby(['rideable_type','member_casual'])['duration'].mean()\n",
    "mean_dis"
   ]
  },
  {
   "cell_type": "code",
   "execution_count": 180,
   "id": "1f10c500",
   "metadata": {},
   "outputs": [
    {
     "data": {
      "image/png": "[encoded data removed]",
      "text/plain": [
       "<Figure size 432x576 with 1 Axes>"
      ]
     },
     "metadata": {
      "needs_background": "light"
     },
     "output_type": "display_data"
    }
   ],
   "source": [
    "fig, ax = plt.subplots(figsize=(6,8))\n",
    "mean_dis.sort_values(ascending=True).plot(kind='barh',color='r', rot=0)\n",
    "plt.title(\"Mean time of rides among different bikes and customer types\")\n",
    "plt.show()"
   ]
  },
  {
   "cell_type": "code",
   "execution_count": 165,
   "id": "67456767",
   "metadata": {},
   "outputs": [
    {
     "data": {
      "text/plain": [
       "rideable_type  member_casual\n",
       "classic_bike   casual            925157\n",
       "               member           1363201\n",
       "docked_bike    casual            542891\n",
       "               member            499131\n",
       "electric_bike  casual            755416\n",
       "               member            821430\n",
       "Name: duration, dtype: int64"
      ]
     },
     "execution_count": 165,
     "metadata": {},
     "output_type": "execute_result"
    }
   ],
   "source": [
    "count_dis=data.groupby(['rideable_type','member_casual'])['duration'].count()\n",
    "count_dis"
   ]
  },
  {
   "cell_type": "code",
   "execution_count": 167,
   "id": "73896644",
   "metadata": {},
   "outputs": [
    {
     "data": {
      "image/png": "[encoded data removed]",
      "text/plain": [
       "<Figure size 576x576 with 1 Axes>"
      ]
     },
     "metadata": {},
     "output_type": "display_data"
    }
   ],
   "source": [
    "fig, ax = plt.subplots(figsize=(8,8))\n",
    "plt.pie(count_dis, labels = count_dis.index, autopct='%.0f%%')\n",
    "plt.title(\"Number of rides among different bikes and customer types\")\n",
    "plt.show()"
   ]
  },
  {
   "cell_type": "code",
   "execution_count": 182,
   "id": "caaef692",
   "metadata": {},
   "outputs": [
    {
     "data": {
      "text/plain": [
       "Text(0.5, 1.0, 'Duration distribution among differnt member and bike types: less than 2hr')"
      ]
     },
     "execution_count": 182,
     "metadata": {},
     "output_type": "execute_result"
    },
    {
     "data": {
      "image/png": "[encoded data removed]",
      "text/plain": [
       "<Figure size 864x432 with 1 Axes>"
      ]
     },
     "metadata": {
      "needs_background": "light"
     },
     "output_type": "display_data"
    }
   ],
   "source": [
    "# Less than 2hr rides distribution\n",
    "fig, ax = plt.subplots(figsize=(12,6))\n",
    "ax = sns.violinplot(data=data[data['duration']<7200], x=\"rideable_type\", y=\"duration\", hue=\"member_casual\")\n",
    "plt.title('Duration distribution among differnt member and bike types: less than 2hr')"
   ]
  },
  {
   "cell_type": "code",
   "execution_count": 181,
   "id": "2ca792ac",
   "metadata": {},
   "outputs": [
    {
     "data": {
      "text/plain": [
       "Text(0.5, 1.0, 'Duration distribution among differnt member and bike types: greater than 2 hr')"
      ]
     },
     "execution_count": 181,
     "metadata": {},
     "output_type": "execute_result"
    },
    {
     "data": {
      "image/png": "[encoded data removed]",
      "text/plain": [
       "<Figure size 864x432 with 1 Axes>"
      ]
     },
     "metadata": {
      "needs_background": "light"
     },
     "output_type": "display_data"
    }
   ],
   "source": [
    "# Greater than 2hr rides distribution\n",
    "fig, ax = plt.subplots(figsize=(12,6))\n",
    "ax = sns.violinplot(data=data[data['duration']>=7200], x=\"rideable_type\", y=\"duration\", hue=\"member_casual\")\n",
    "plt.title('Duration distribution among differnt member and bike types: greater than 2 hr')"
   ]
  },
  {
   "cell_type": "code",
   "execution_count": null,
   "id": "dfb818e5",
   "metadata": {},
   "outputs": [],
   "source": []
  }
 ],
 "metadata": {
  "kernelspec": {
   "display_name": "Python 3",
   "language": "python",
   "name": "python3"
  },
  "language_info": {
   "codemirror_mode": {
    "name": "ipython",
    "version": 3
   },
   "file_extension": ".py",
   "mimetype": "text/x-python",
   "name": "python",
   "nbconvert_exporter": "python",
   "pygments_lexer": "ipython3",
   "version": "3.8.8"
  }
 },
 "nbformat": 4,
 "nbformat_minor": 5
}
